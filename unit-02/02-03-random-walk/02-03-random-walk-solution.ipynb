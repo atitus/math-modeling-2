{
 "cells": [
  {
   "cell_type": "markdown",
   "metadata": {},
   "source": [
    "Run the cell below if you need to install the `mplEasyAnimate` package. The [mplEasyAnimate](https://github.com/tboudreaux/mpl_animate) package was created by HPU alumnus Thomas Boudreaux."
   ]
  },
  {
   "cell_type": "code",
   "execution_count": null,
   "metadata": {},
   "outputs": [],
   "source": [
    "!pip install mplEasyAnimate"
   ]
  },
  {
   "cell_type": "markdown",
   "metadata": {},
   "source": [
    "# Random Walk\n",
    "\n",
    "See Module 9.5 in *Introduction to Computational Science* by Shiflet and Shiflet.\n",
    "\n",
    "Many physical processes are a result of an object traveling in a medium through random collisions with molecules or atoms in the medium. Examples include a pollen particle in a fluid, calcium traveling through a bone, or a photon generated in the interior of the sun traveling to the surface. One way to simulate this process is a *random walk*.\n",
    "\n",
    "In this notebook, you will:\n",
    "\n",
    "1. randomly select steps for the object.\n",
    "1. visualize the path of the object.\n",
    "1. calculate the distance traveled from its starting location.\n",
    "\n",
    "## Background\n",
    "\n",
    "Sir Ronald Ross (1857-1932) was a British medical doctor who received the 1902 Nobel Prize in Medicine for his work on malaria. He was not a mathematician by trade, but he was interested in calculating the distance a mosquito-carried disease from a breeding pool. In September 1904, at the International Congress of Arts and Science in St. Louis, Ross gave a presentation on how to mathematically model the spread of mosquitoes from such a breeding pool.\n",
    "\n",
    "Introducing the topic, he says:\n",
    "\n",
    "\"Suppose that a mosquito is born at a given point, and that during its life wanders about, to and fro, to left or to right, where it wills, in search of food or mathing, over a country which is uniformly attractive to it. After a time, it will die. What are the probabilities that its dead body will be found at a given distance from its birthplace? That is really the problem which governs the whole of this great subject of the prophylaxis of malaria.\"\n",
    "\n",
    "He also says:\n",
    "\n",
    "\"The answer depends upon the distance which a mosquito can traverse, not during a single flight, but during its whole life; and so upon certain laws of probability, which must govern its wanderings to and fro upon the face of the earth\"\n",
    "\n",
    "Ross considered the mosquitos life to be divided into $n$ stages. During each stage, it travels a total distance $L$ in the air. He considered mosquitos traveling in all directions, but for mathematically simplicity he considered a single mosquito to travel along one axis only (i.e. one dimension). During each stage, the mosquito randomly decides *twice* to fly forward or backward a distance $L/2$, with equal probability 1/2 of flying forward or backward.\n",
    "\n",
    "Ross did not give this process a name; however, today mathematicians and scientists call this a *one-dimensional random walk*.\n",
    "\n",
    "Ross calculated the probability of finding a dead mosquito at a distance $L$, $2L$, $3L$, etc. for $n$ stages. As a specfic example, he considered 1024 mosquitos with $n=5$ stages. The expected number of mosquitos at each possible distance from the breeding pool is shown below.\n",
    "\n",
    "Distance from the breeding pool | Number of dead mosquitos\n",
    ":---: | :---:\n",
    "0 | 252\n",
    "L | 420\n",
    "2L | 240\n",
    "3L | 90\n",
    "4L | 20\n",
    "5L | 2\n",
    "    \n"
   ]
  },
  {
   "cell_type": "markdown",
   "metadata": {},
   "source": [
    "## Exercise 1\n",
    "\n",
    "1. Use Python to calculate the probability of finding a dead mosquito at each of the distances in the table above. \n",
    "2. Copy and paste the markdown for the above table, and add a third column that shows the probability you calculated for each distance."
   ]
  },
  {
   "cell_type": "code",
   "execution_count": 15,
   "metadata": {},
   "outputs": [
    {
     "name": "stdout",
     "output_type": "stream",
     "text": [
      "At d=0: 24.609375%\n",
      "At d=1L: 41.015625%\n",
      "At d=2L: 23.4375%\n",
      "At d=3L: 8.7890625%\n",
      "At d=4L: 1.953125%\n",
      "At d=5L: 0.1953125%\n"
     ]
    }
   ],
   "source": [
    "Nmos = 1024\n",
    "p0 = 252/Nmos * 100\n",
    "p1 = 420/Nmos * 100\n",
    "p2 = 240/Nmos * 100\n",
    "p3 = 90/Nmos * 100\n",
    "p4 = 20/Nmos * 100\n",
    "p5 = 2/Nmos * 100\n",
    "\n",
    "print(f\"At d=0: {p0}%\")\n",
    "print(f\"At d=1L: {p1}%\")\n",
    "print(f\"At d=2L: {p2}%\")\n",
    "print(f\"At d=3L: {p3}%\")\n",
    "print(f\"At d=4L: {p4}%\")\n",
    "print(f\"At d=5L: {p5}%\")"
   ]
  },
  {
   "cell_type": "markdown",
   "metadata": {},
   "source": [
    "\n",
    "## Mosquito Model\n",
    "\n",
    "Let's define a Cartesian coordinate system with $+x$ to the right and $+y$. An object can only be at a location on the grid given by integers $(x,y)$. In other words, the location of the object given by the coordinate pair could be something like $(0,1)$ or $(-10,15)$ but not $(3.5,1)$.  A movement from one location to another is called a *displacement*.\n",
    "\n",
    "- The mosquito will fly along the x-axis at $y=0$.\n",
    "- In each stage, a mosquito takes two random \"steps\", of distance $L/2$ to the right or to the left, with equal probability.\n",
    "- A step to the right is $\\Delta x = +L/2$.\n",
    "- A step to the left is $\\Delta x = -L/2$.\n",
    "- Use $L=1$ for simplicity.\n",
    "\n",
    "In the rest of the notebook, we will create a grid and move the mosquito randomly along the x-axis.\n"
   ]
  },
  {
   "cell_type": "code",
   "execution_count": 2,
   "metadata": {},
   "outputs": [],
   "source": [
    "import numpy as np\n",
    "import matplotlib.pyplot as plt\n",
    "import random as rand\n",
    "\n",
    "## the packages below are used to create an animation as a mp4 file and display it in the notebook\n",
    "from IPython.display import HTML\n",
    "from mplEasyAnimate import animation\n",
    "from tqdm import tqdm\n",
    "from base64 import b64encode"
   ]
  },
  {
   "cell_type": "markdown",
   "metadata": {},
   "source": [
    "## One Mosquito\n",
    "\n",
    "- Randomly pick 0 or 1 and use this to step right or left.\n",
    "- Record the x position after each step."
   ]
  },
  {
   "cell_type": "code",
   "execution_count": 3,
   "metadata": {},
   "outputs": [
    {
     "name": "stdout",
     "output_type": "stream",
     "text": [
      "Stage 0, x = 0\n",
      "Stage 1, x = 1.0\n",
      "Stage 2, x = 1.0\n",
      "Stage 3, x = 2.0\n",
      "Stage 4, x = 2.0\n",
      "Stage 5, x = 1.0\n"
     ]
    }
   ],
   "source": [
    "N = 5 #total number of stages\n",
    "L = 1 #length of stage\n",
    "\n",
    "#starting position\n",
    "x = 0\n",
    "\n",
    "print(f\"Stage 0, x = {x}\")\n",
    "\n",
    "#loop\n",
    "for i in range(N):\n",
    "    \n",
    "    #step right or left\n",
    "    r = rand.randint(0,1)\n",
    "    if r == 0:\n",
    "        dx1 = L/2 #step right\n",
    "    else:\n",
    "        dx1 = - L/2 #step left\n",
    "\n",
    "    #step right or left\n",
    "    r = rand.randint(0,1)\n",
    "    if r == 0:\n",
    "        dx2 = L/2 #step right\n",
    "    else:\n",
    "        dx2 = - L/2 #step left\n",
    "    \n",
    "    dx = dx1 + dx2 #total displacement\n",
    "    x = x + dx #update the value of x\n",
    "\n",
    "    print(f\"Stage {i+1}, x = {x}\")\n"
   ]
  },
  {
   "cell_type": "markdown",
   "metadata": {},
   "source": [
    "## Using Python Functions\n",
    "\n",
    "Use a Python function to do a random walk and return the final x position. I took the previous program, removed the `print` statements, and put it into a function. The variable `N` is passed to the function.\n"
   ]
  },
  {
   "cell_type": "code",
   "execution_count": 4,
   "metadata": {},
   "outputs": [],
   "source": [
    "def randomwalk1D(N): #input N, the number of stages; returns final position\n",
    "    L = 1 #length of stage\n",
    "\n",
    "    #starting position\n",
    "    x = 0\n",
    "\n",
    "    #loop\n",
    "    for i in range(N):\n",
    "\n",
    "        #step right or left\n",
    "        r = rand.randint(0,1)\n",
    "        if r == 0:\n",
    "            dx1 = L/2 #step right\n",
    "        else:\n",
    "            dx1 = - L/2 #step left\n",
    "\n",
    "        #step right or left\n",
    "        r = rand.randint(0,1)\n",
    "        if r == 0:\n",
    "            dx2 = L/2 #step right\n",
    "        else:\n",
    "            dx2 = - L/2 #step left\n",
    "\n",
    "        dx = dx1 + dx2 #total displacement\n",
    "        x = x + dx #update the value of x\n",
    "\n",
    "    return x\n",
    "    "
   ]
  },
  {
   "cell_type": "markdown",
   "metadata": {},
   "source": [
    "To get the final x position of a mosquito, call the function and pass it the number of stages."
   ]
  },
  {
   "cell_type": "code",
   "execution_count": 5,
   "metadata": {},
   "outputs": [
    {
     "name": "stdout",
     "output_type": "stream",
     "text": [
      "final x = -1.0\n"
     ]
    }
   ],
   "source": [
    "Nstages = 5\n",
    "\n",
    "x=randomwalk1D(Nstages)\n",
    "print(f\"final x = {x}\")"
   ]
  },
  {
   "cell_type": "markdown",
   "metadata": {},
   "source": [
    "## Modeling Many Mosquitos\n",
    "\n",
    "We want to model the *random walk* of 1024 mosquitos. We need a loop to run 1024 times. Create a loop below and call the function `randomwalk1D`. Run the loop 1024 times. Note that when testing, run the loop fewer times (maybe 10 times) and print each final x-position."
   ]
  },
  {
   "cell_type": "code",
   "execution_count": 6,
   "metadata": {},
   "outputs": [
    {
     "name": "stdout",
     "output_type": "stream",
     "text": [
      "final x = 0.0\n",
      "final x = 1.0\n",
      "final x = 3.0\n",
      "final x = 3.0\n",
      "final x = 0.0\n",
      "final x = 2.0\n",
      "final x = 2.0\n",
      "final x = -2.0\n",
      "final x = 3.0\n",
      "final x = -2.0\n"
     ]
    }
   ],
   "source": [
    "Nstages = 5\n",
    "Nmos = 10 #number of mosquitos\n",
    "\n",
    "for i in range(Nmos):\n",
    "    x=randomwalk1D(Nstages)\n",
    "    print(f\"final x = {x}\")\n"
   ]
  },
  {
   "cell_type": "markdown",
   "metadata": {},
   "source": [
    "1. After you know your program is working, copy and paste it into the cell below. \n",
    "\n",
    "2. Create variables such as `N0`, `N1`, `N2`, `N3`, `N4`, `N5` that will be used to count the number of times a mosquito dies at a certain distance $0$, $L$, $2L$, etc. \n",
    "\n",
    "3. Add code *inside the loop* to:\n",
    "\n",
    "  - calculate the distance of the final x position of the mosquito. Use `np.abs(x)` to calculate the absolute value of the final x position of the mosquito. \n",
    "  - count the number of times each distance $0$, $L$, $2L$, $3L$... occurs\n"
   ]
  },
  {
   "cell_type": "code",
   "execution_count": 10,
   "metadata": {},
   "outputs": [
    {
     "name": "stdout",
     "output_type": "stream",
     "text": [
      "final distance = 2.0\n",
      "final distance = 3.0\n",
      "final distance = 2.0\n",
      "final distance = 0.0\n",
      "final distance = 1.0\n",
      "final distance = 0.0\n",
      "final distance = 0.0\n",
      "final distance = 1.0\n",
      "final distance = 2.0\n",
      "final distance = 1.0\n"
     ]
    }
   ],
   "source": [
    "Nstages = 5\n",
    "Nmos = 10 #number of mosquitos\n",
    "\n",
    "#variables to count outcomes for distance\n",
    "N0 = 0\n",
    "N1 = 0\n",
    "N2 = 0\n",
    "N3 = 0\n",
    "N4 = 0\n",
    "N5 = 0\n",
    "\n",
    "for i in range(Nmos):\n",
    "    x = randomwalk1D(Nstages)\n",
    "    d = np.abs(x) #distance from x=0\n",
    "    \n",
    "    if d==0:\n",
    "        N0 = N0 + 1\n",
    "    elif d==1:\n",
    "        N1 = N1 + 1\n",
    "    elif d==2:\n",
    "        N2 = N2 + 1\n",
    "    elif d==3:\n",
    "        N3 = N3 + 1\n",
    "    elif d==4:\n",
    "        N4 = N4 + 1\n",
    "    elif d==5:\n",
    "        N5 = N5 + 1\n",
    "    \n",
    "    print(f\"final distance = {d}\")"
   ]
  },
  {
   "cell_type": "markdown",
   "metadata": {},
   "source": [
    "Copy and paste your program into the cell below. Then, after the loop, calculate the percentage of mosquitos that die at each distance--this is the probability--and compare your results to the table given by Ross."
   ]
  },
  {
   "cell_type": "code",
   "execution_count": 16,
   "metadata": {},
   "outputs": [
    {
     "name": "stdout",
     "output_type": "stream",
     "text": [
      "At d=0: 22.4609375%\n",
      "At d=1L: 40.33203125%\n",
      "At d=2L: 24.4140625%\n",
      "At d=3L: 9.86328125%\n",
      "At d=4L: 2.5390625%\n",
      "At d=5L: 0.390625%\n"
     ]
    }
   ],
   "source": [
    "Nstages = 5\n",
    "Nmos = 1024 #number of mosquitos\n",
    "\n",
    "#variables to count outcomes for distance\n",
    "N0 = 0\n",
    "N1 = 0\n",
    "N2 = 0\n",
    "N3 = 0\n",
    "N4 = 0\n",
    "N5 = 0\n",
    "\n",
    "for i in range(Nmos):\n",
    "    x = randomwalk1D(Nstages)\n",
    "    d = np.abs(x) #distance from x=0 is |x|\n",
    "    \n",
    "    if d==0:\n",
    "        N0 = N0 + 1\n",
    "    elif d==1:\n",
    "        N1 = N1 + 1\n",
    "    elif d==2:\n",
    "        N2 = N2 + 1\n",
    "    elif d==3:\n",
    "        N3 = N3 + 1\n",
    "    elif d==4:\n",
    "        N4 = N4 + 1\n",
    "    elif d==5:\n",
    "        N5 = N5 + 1\n",
    "        \n",
    "p0 = N0/Nmos * 100 #percentage of mosquitos that die at x = 0\n",
    "p1 = N1/Nmos * 100 #percentage of mosquitos that die at x = +-1\n",
    "p2 = N2/Nmos * 100 #percentage of mosquitos that die at x = +-2\n",
    "p3 = N3/Nmos * 100 #percentage of mosquitos that die at x = +-3\n",
    "p4 = N4/Nmos * 100 #percentage of mosquitos that die at x = +-4\n",
    "p5 = N5/Nmos * 100 #percentage of mosquitos that die at x = +-5\n",
    "\n",
    "print(f\"At d=0: {p0}%\")\n",
    "print(f\"At d=1L: {p1}%\")\n",
    "print(f\"At d=2L: {p2}%\")\n",
    "print(f\"At d=3L: {p3}%\")\n",
    "print(f\"At d=4L: {p4}%\")\n",
    "print(f\"At d=5L: {p5}%\")"
   ]
  },
  {
   "cell_type": "markdown",
   "metadata": {},
   "source": [
    "## Exercise 2\n",
    "\n",
    "Run your program modeling 1024 mosquitos multiple times and observe the results each time. \n",
    "\n",
    "1. Do the percentages (i.e. probabilities) for each distance change?\n",
    "\n",
    "2. How can you change your program in order to better estimate the expected percentage of mosquitos at each distance?\n",
    "\n",
    "Compare your results to the table by Ross."
   ]
  },
  {
   "cell_type": "code",
   "execution_count": null,
   "metadata": {},
   "outputs": [],
   "source": []
  }
 ],
 "metadata": {
  "kernelspec": {
   "display_name": "Python 3",
   "language": "python",
   "name": "python3"
  },
  "language_info": {
   "codemirror_mode": {
    "name": "ipython",
    "version": 3
   },
   "file_extension": ".py",
   "mimetype": "text/x-python",
   "name": "python",
   "nbconvert_exporter": "python",
   "pygments_lexer": "ipython3",
   "version": "3.7.7"
  }
 },
 "nbformat": 4,
 "nbformat_minor": 4
}
