{
 "cells": [
  {
   "cell_type": "code",
   "execution_count": 1,
   "metadata": {},
   "outputs": [],
   "source": [
    "import numpy as np\n",
    "import matplotlib.pyplot as plt\n",
    "import random as rand"
   ]
  },
  {
   "cell_type": "markdown",
   "metadata": {},
   "source": [
    "# Random Walk\n",
    "\n",
    "See Module 9.5 in *Introduction to Computational Science* by Shiflet and Shiflet.\n",
    "\n",
    "Many physical processes are a result of an object traveling in a medium through random collisions with molecules or atoms in the medium. Examples include a pollen particle in a fluid, calcium traveling through a bone, or a photon generated in the interior of the sun traveling to the surface. One way to simulate this process is a *random walk*.\n",
    "\n",
    "In this notebook, you will:\n",
    "\n",
    "1. randomly select steps for the object.\n",
    "1. visualize the path of the object.\n",
    "1. calculate the distance traveled from its starting location.\n",
    "\n",
    "## Background\n",
    "\n",
    "Sir Ronald Ross (1857-1932) was a British medical doctor who received the 1902 Nobel Prize in Medicine for his work on malaria. He was not a mathematician by trade, but he was interested in calculating the distance of a mosquito-carried disease from a breeding pool. In September 1904, at the International Congress of Arts and Science in St. Louis, Ross gave a presentation on how to mathematically model the spread of mosquitoes from such a breeding pool.\n",
    "\n",
    "Introducing the topic, he says:\n",
    "\n",
    "\"Suppose that a mosquito is born at a given point, and that during its life wanders about, to and fro, to left or to right, where it wills, in search of food or mating, over a country which is uniformly attractive to it. After a time, it will die. What are the probabilities that its dead body will be found at a given distance from its birthplace? That is really the problem which governs the whole of this great subject of the prophylaxis of malaria.\"\n",
    "\n",
    "He also says:\n",
    "\n",
    "\"The answer depends upon the distance which a mosquito can traverse, not during a single flight, but during its whole life; and so upon certain laws of probability, which must govern its wanderings to and fro upon the face of the earth\"\n",
    "\n",
    "Ross considered the mosquito's life to be divided into $n$ stages. During each stage, it travels a total distance $L$ in the air. He considered mosquitos traveling in all directions, but for mathematical simplicity he considered a single mosquito to travel along one axis only (i.e. one dimension). During each stage, the mosquito randomly decides *twice* to fly forward or backward a distance $L/2$, with equal probability 1/2 of flying forward or backward.\n",
    "\n",
    "Ross did not give this process a name; however, today mathematicians and scientists call this a *one-dimensional random walk*.\n",
    "\n",
    "Ross calculated the probability of finding a dead mosquito at a distance $L$, $2L$, $3L$, etc. for $n$ stages. As a specfic example, he considered 1024 mosquitos with $n=5$ stages. The expected number of mosquitos at each possible distance from the breeding pool is shown below.\n",
    "\n",
    "Distance from the breeding pool | Number of dead mosquitos\n",
    ":---: | :---:\n",
    "0 | 252\n",
    "L | 420\n",
    "2L | 240\n",
    "3L | 90\n",
    "4L | 20\n",
    "5L | 2\n",
    "    \n"
   ]
  },
  {
   "cell_type": "markdown",
   "metadata": {},
   "source": [
    "## Exercise 1\n",
    "\n",
    "1. Use Python to calculate the probability of finding a dead mosquito at each of the distances in the table above. \n",
    "2. Copy and paste the markdown for the above table, and add a third column that shows the probability you calculated for each distance."
   ]
  },
  {
   "cell_type": "code",
   "execution_count": null,
   "metadata": {},
   "outputs": [],
   "source": []
  },
  {
   "cell_type": "markdown",
   "metadata": {},
   "source": [
    "\n",
    "## Mosquito Model\n",
    "\n",
    "Let's define a Cartesian coordinate system with $+x$ to the right and $+y$. An object can only be at a location on the grid given by integers $(x,y)$. In other words, the location of the object given by the coordinate pair could be something like $(0,1)$ or $(-10,15)$ but not $(3.5,1)$.  A movement from one location to another is called a *displacement*.\n",
    "\n",
    "- The mosquito will fly along the x-axis at $y=0$.\n",
    "- In each stage, a mosquito takes two random \"steps\", of distance $L/2$ to the right or to the left, with equal probability.\n",
    "- A step to the right is $\\Delta x = +L/2$.\n",
    "- A step to the left is $\\Delta x = -L/2$.\n",
    "- Use $L=1$ for simplicity.\n",
    "\n",
    "In the rest of the notebook, we will create a grid and move the mosquito randomly along the x-axis.\n"
   ]
  },
  {
   "cell_type": "markdown",
   "metadata": {},
   "source": [
    "## One Mosquito\n",
    "\n",
    "- Randomly pick 0 or 1 and use this to step right or left.\n",
    "- Record the x position after each step."
   ]
  },
  {
   "cell_type": "code",
   "execution_count": 15,
   "metadata": {},
   "outputs": [
    {
     "name": "stdout",
     "output_type": "stream",
     "text": [
      "Stage 0, x = 0\n",
      "Stage 1, x = 0.0\n",
      "Stage 2, x = -1.0\n",
      "Stage 3, x = -2.0\n",
      "Stage 4, x = -3.0\n",
      "Stage 5, x = -3.0\n"
     ]
    }
   ],
   "source": [
    "N = 5 #total number of stages\n",
    "L = 1 #length of two steps in the same direction\n",
    "\n",
    "#starting position\n",
    "x = 0\n",
    "\n",
    "print(f\"Stage 0, x = {x}\")\n",
    "\n",
    "#loop\n",
    "for i in range(N):\n",
    "    \n",
    "    #step right or left\n",
    "    r = rand.randint(0,1)\n",
    "    if r == 0:\n",
    "        dx1 = L/2 #step right\n",
    "    else:\n",
    "        dx1 = - L/2 #step left\n",
    "\n",
    "    #step right or left\n",
    "    r = rand.randint(0,1)\n",
    "    if r == 0:\n",
    "        dx2 = L/2 #step right\n",
    "    else:\n",
    "        dx2 = - L/2 #step left\n",
    "    \n",
    "    dx = dx1 + dx2 #total displacement\n",
    "    x = x + dx #update the value of x\n",
    "\n",
    "    print(f\"Stage {i+1}, x = {x}\")\n"
   ]
  },
  {
   "cell_type": "markdown",
   "metadata": {},
   "source": [
    "## Using Python Functions\n",
    "\n",
    "Use a Python function to do a random walk and return the final x position. I took the previous program, removed the `print` statements, and put it into a function. The variable `N` is passed to the function.\n"
   ]
  },
  {
   "cell_type": "code",
   "execution_count": 17,
   "metadata": {},
   "outputs": [],
   "source": [
    "def randomwalk1D(N): #input N, the number of stages; returns final position\n",
    "    L = 1 #length of two steps in the same direction\n",
    "\n",
    "    #starting position\n",
    "    x = 0\n",
    "\n",
    "    #loop\n",
    "    for i in range(N):\n",
    "\n",
    "        #step right or left\n",
    "        r = rand.randint(0,1)\n",
    "        if r == 0:\n",
    "            dx1 = L/2 #step right\n",
    "        else:\n",
    "            dx1 = - L/2 #step left\n",
    "\n",
    "        #step right or left\n",
    "        r = rand.randint(0,1)\n",
    "        if r == 0:\n",
    "            dx2 = L/2 #step right\n",
    "        else:\n",
    "            dx2 = - L/2 #step left\n",
    "\n",
    "        dx = dx1 + dx2 #total displacement\n",
    "        x = x + dx #update the value of x\n",
    "\n",
    "    return x\n",
    "    "
   ]
  },
  {
   "cell_type": "markdown",
   "metadata": {},
   "source": [
    "To get the final x position of a mosquito, call the function and pass it the number of stages."
   ]
  },
  {
   "cell_type": "code",
   "execution_count": 22,
   "metadata": {},
   "outputs": [
    {
     "name": "stdout",
     "output_type": "stream",
     "text": [
      "final x = 2.0\n"
     ]
    }
   ],
   "source": [
    "Nstages = 5\n",
    "\n",
    "x=randomwalk1D(Nstages)\n",
    "print(f\"final x = {x}\")"
   ]
  },
  {
   "cell_type": "markdown",
   "metadata": {},
   "source": [
    "## Modeling Many Mosquitos\n",
    "\n",
    "We want to model the *random walk* of 1024 mosquitos. We need a loop to run 1024 times. Create a loop below and call the function `randomwalk1D`. Run the loop 1024 times. Note that when testing, run the loop fewer times (maybe 10 times) and print each final x-position."
   ]
  },
  {
   "cell_type": "code",
   "execution_count": 25,
   "metadata": {},
   "outputs": [],
   "source": [
    "Nmos = 10 #number of mosquitos\n"
   ]
  },
  {
   "cell_type": "markdown",
   "metadata": {},
   "source": [
    "After you know your program is working, copy and paste it into the cell below. Add code *inside the loop* to:\n",
    "\n",
    "- calculate the distance of the final x position of the mosquito\n",
    "- count the number of times each distance $L$, $2L$, $3L$... occurs\n"
   ]
  },
  {
   "cell_type": "code",
   "execution_count": null,
   "metadata": {},
   "outputs": [],
   "source": []
  },
  {
   "cell_type": "markdown",
   "metadata": {},
   "source": [
    "Copy and paste your program into the cell below. Then, after the loop, calculate the percentage of mosquitos that die at each distance--this is the probability--and compare your results to the table given by Ross."
   ]
  },
  {
   "cell_type": "code",
   "execution_count": null,
   "metadata": {},
   "outputs": [],
   "source": []
  },
  {
   "cell_type": "markdown",
   "metadata": {},
   "source": [
    "## Exercise 2\n",
    "\n",
    "Run your program modeling 1024 mosquitos multiple times and observe the results each time. \n",
    "\n",
    "1. Do the percentages (i.e. probabilities) for each distance change?\n",
    "\n",
    "2. How can you change your program in order to better estimate the expected percentage of mosquitos at each distance?\n",
    "\n",
    "Compare your results to the table by Ross."
   ]
  },
  {
   "cell_type": "code",
   "execution_count": null,
   "metadata": {},
   "outputs": [],
   "source": []
  },
  {
   "cell_type": "code",
   "execution_count": null,
   "metadata": {},
   "outputs": [],
   "source": []
  }
 ],
 "metadata": {
  "kernelspec": {
   "display_name": "Python 3",
   "language": "python",
   "name": "python3"
  },
  "language_info": {
   "codemirror_mode": {
    "name": "ipython",
    "version": 3
   },
   "file_extension": ".py",
   "mimetype": "text/x-python",
   "name": "python",
   "nbconvert_exporter": "python",
   "pygments_lexer": "ipython3",
   "version": "3.7.7"
  }
 },
 "nbformat": 4,
 "nbformat_minor": 4
}
