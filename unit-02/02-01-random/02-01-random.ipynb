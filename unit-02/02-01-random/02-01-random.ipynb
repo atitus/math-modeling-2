{
 "cells": [
  {
   "cell_type": "code",
   "execution_count": 2,
   "metadata": {},
   "outputs": [],
   "source": [
    "import random as rand #for random numbers\n",
    "import numpy as np\n",
    "import matplotlib.pyplot as plt"
   ]
  },
  {
   "cell_type": "markdown",
   "metadata": {},
   "source": [
    "# Random Numbers"
   ]
  },
  {
   "cell_type": "markdown",
   "metadata": {},
   "source": [
    "This is the first notebook on Unit 02 - Monte Carlo simulations. This is Chapter 9 in *Introduction to Computational Science*.\n",
    "\n",
    "In this notebook, you will learn how to create a random number using a function. You will use a conditional statement to determine the roll of a di or flip of a coin using a random number. You will use your random number generator to calculate area."
   ]
  },
  {
   "cell_type": "markdown",
   "metadata": {},
   "source": [
    "## Python's random number generator"
   ]
  },
  {
   "cell_type": "markdown",
   "metadata": {},
   "source": [
    "You can [read more about the functions](https://docs.python.org/3.7/library/random.html) available in Python for generating a random number. These include:\n",
    "\n",
    "- `random.randint(a, b)`\n",
    "\n",
    "   Return a random integer $N$ such that $a <= N <= b$. Alias for `randrange(a, b+1)`.\n",
    "   \n",
    "- `random.random()`\n",
    "\n",
    "   Return the next random floating point number in the range $[0.0, 1.0)$.\n",
    "   \n",
    "- `random.uniform(a, b)`\n",
    "\n",
    "   Return a random floating point number $N$ such that:\n",
    "   \n",
    "   - $a <= N <= b$ for $a <= b$\n",
    "   - $b <= N <= a$ for $b < a$.\n",
    "\n",
    "   The end-point value b may or may not be included in the range depending on floating-point rounding in the equation `a + (b-a) * random()`.\n",
    "   \n",
    "If you import all of the package `random` with an alias, then you can use an alias to call the functions. For example, you can use:\n",
    "\n",
    "```\n",
    "import random as rand\n",
    "```"
   ]
  },
  {
   "cell_type": "markdown",
   "metadata": {},
   "source": [
    "## Random float between 0 and 1, including 0 but not 1\n",
    "\n",
    "To get a random number between 0 and 1 use `rand.random()`."
   ]
  },
  {
   "cell_type": "code",
   "execution_count": 3,
   "metadata": {},
   "outputs": [
    {
     "name": "stdout",
     "output_type": "stream",
     "text": [
      "0.4144292119817504\n"
     ]
    }
   ],
   "source": [
    "x = rand.random()\n",
    "print(x)"
   ]
  },
  {
   "cell_type": "markdown",
   "metadata": {},
   "source": [
    "Re-run the cell above or repeat these lines multiple times to check that it returns different numbers."
   ]
  },
  {
   "cell_type": "code",
   "execution_count": 4,
   "metadata": {},
   "outputs": [
    {
     "name": "stdout",
     "output_type": "stream",
     "text": [
      "0.16714539069276435\n",
      "0.4960928435504738\n",
      "0.013922954993469183\n",
      "0.5608305738717847\n",
      "0.44388468481313303\n"
     ]
    }
   ],
   "source": [
    "x = rand.random()\n",
    "print(x)\n",
    "\n",
    "x = rand.random()\n",
    "print(x)\n",
    "\n",
    "x = rand.random()\n",
    "print(x)\n",
    "\n",
    "x = rand.random()\n",
    "print(x)\n",
    "\n",
    "x = rand.random()\n",
    "print(x)"
   ]
  },
  {
   "cell_type": "markdown",
   "metadata": {},
   "source": [
    "## Random integer\n",
    "\n",
    "Here's a random integer between 1 and 100, including both 1 and 100."
   ]
  },
  {
   "cell_type": "code",
   "execution_count": 5,
   "metadata": {},
   "outputs": [
    {
     "name": "stdout",
     "output_type": "stream",
     "text": [
      "5\n"
     ]
    }
   ],
   "source": [
    "N = rand.randint(1,100)\n",
    "print(N)"
   ]
  },
  {
   "cell_type": "markdown",
   "metadata": {},
   "source": [
    "Re-run the cell to see other outcomes."
   ]
  },
  {
   "cell_type": "markdown",
   "metadata": {},
   "source": [
    "## Random float from a uniform distribution\n",
    "\n",
    "Here's a random float between 1 and 100."
   ]
  },
  {
   "cell_type": "code",
   "execution_count": 6,
   "metadata": {},
   "outputs": [
    {
     "name": "stdout",
     "output_type": "stream",
     "text": [
      "67.94244733140545\n"
     ]
    }
   ],
   "source": [
    "a = rand.uniform(1, 100)\n",
    "print(a)"
   ]
  },
  {
   "cell_type": "markdown",
   "metadata": {},
   "source": [
    "# Loop\n",
    "\n",
    "A loop is a way of repeating code. For example, if you want to choose a random integer and print the random integer 5 times, you do not have to copy and paste the code. You can use a loop that runs 5 iterations.\n",
    "\n",
    "The loop below runs 5 times."
   ]
  },
  {
   "cell_type": "code",
   "execution_count": 13,
   "metadata": {},
   "outputs": [
    {
     "name": "stdout",
     "output_type": "stream",
     "text": [
      "4\n",
      "88\n",
      "85\n",
      "55\n",
      "51\n",
      "The next line after the loop is not indented. All lines in the loop are indented.\n"
     ]
    }
   ],
   "source": [
    "for i in range(5):\n",
    "    N = rand.randint(1,100)\n",
    "    print(N)\n",
    "\n",
    "print(\"The next line after the loop is not indented. All lines in the loop are indented.\")"
   ]
  },
  {
   "cell_type": "markdown",
   "metadata": {},
   "source": [
    "The big advantage is that you can run it 100 times or 1000 times or 1 million times, although you definitely don't want to print out one million integers. Copy the code in the previous cell and paste it below in order to preserve (i.e. not change) the previous example, and edit the code to run the loop 100 times. *Do not include the last `print` statement since it's not needed.*"
   ]
  },
  {
   "cell_type": "code",
   "execution_count": null,
   "metadata": {},
   "outputs": [],
   "source": []
  },
  {
   "cell_type": "markdown",
   "metadata": {},
   "source": [
    "## Exercise 1 - Model for Rolling a Di"
   ]
  },
  {
   "cell_type": "markdown",
   "metadata": {},
   "source": [
    "Write a loop that runs 20 times and selects a random integer between 1 and 6 and prints the integer.\n",
    "\n",
    "By just viewing the printed integers, what was the most common integer that came up? (Note: this is like rolling a di.)\n",
    "\n",
    "Run your program a second time. Is a different integer the most common?"
   ]
  },
  {
   "cell_type": "code",
   "execution_count": null,
   "metadata": {
    "nbgrader": {
     "grade": true,
     "grade_id": "cell-0e1ba11632da7c46",
     "locked": false,
     "points": 0,
     "schema_version": 3,
     "solution": true,
     "task": false
    }
   },
   "outputs": [],
   "source": []
  },
  {
   "cell_type": "markdown",
   "metadata": {
    "collapsed": true
   },
   "source": [
    "## Conditional Statements"
   ]
  },
  {
   "cell_type": "markdown",
   "metadata": {},
   "source": [
    "A conditional statement defines code to execute if a condition is true and the code to execute of a condition is false. It has the format:\n",
    "\n",
    "```\n",
    "if (condition):\n",
    "    #code block to execute if condition is TRUE\n",
    "\n",
    "else:\n",
    "    #code block to execute if condition is FALSE\n",
    "```"
   ]
  },
  {
   "cell_type": "markdown",
   "metadata": {},
   "source": [
    "Let's use a conditional statement to toss a coin $N$ times and count the number of times it is heads and the number of times it is tails. We will use a Python random number generator. If a random number is between 0 and 0.5, we will call it a \"heads.\" If a random number is between 0.5 and 1, we will call it \"tails.\"\n",
    "\n",
    "Run the program multiple times. Does the percentage of heads for 10 flips of a coin change?\n",
    "\n",
    "How many times do you have to rerun it before you get a combination of 2 and 8, twice?"
   ]
  },
  {
   "cell_type": "code",
   "execution_count": 12,
   "metadata": {},
   "outputs": [
    {
     "name": "stdout",
     "output_type": "stream",
     "text": [
      "Nheads = 2, percent = 20.0\n",
      "Ntails = 8, percent = 80.0\n"
     ]
    }
   ],
   "source": [
    "N = 10 # number of times we toss a coin\n",
    "\n",
    "Nheads = 0 # this is an integer that counts each head\n",
    "Ntails = 0 # this is an integer that counts each tail\n",
    "\n",
    "for i in range(1,N+1):\n",
    "    num = rand.random()\n",
    "    if num < 0.5:\n",
    "        Nheads = Nheads + 1\n",
    "    else:\n",
    "        Ntails = Ntails + 1\n",
    "\n",
    "Hpercent = Nheads/N*100\n",
    "Tpercent = Ntails/N*100\n",
    "print(\"Nheads = {:d}, percent = {:.1f}\".format(Nheads, Hpercent))\n",
    "print(\"Ntails = {:d}, percent = {:.1f}\".format(Ntails, Tpercent))\n"
   ]
  },
  {
   "cell_type": "markdown",
   "metadata": {},
   "source": [
    "## Loop Counter\n",
    "\n",
    "In the program above, the variable `i` is a counter, and it increments over `range(1,N+1)`, starting at 1 and ending (but not including) `N+1`. So the first value of `i` in this case is 1 and the last value of `i` in this case is the value before `N+1`. Since `N=10`, and `N+1` is 11, the last value of `i` is 10. Therefore `i` will have integer values from 1 to 10.\n",
    "\n",
    "We can see this in the much simpler loop shown below."
   ]
  },
  {
   "cell_type": "code",
   "execution_count": 16,
   "metadata": {},
   "outputs": [
    {
     "name": "stdout",
     "output_type": "stream",
     "text": [
      "Coin toss: i = 1, random number = 0.594\n",
      "Coin toss: i = 2, random number = 0.171\n",
      "Coin toss: i = 3, random number = 0.110\n",
      "Coin toss: i = 4, random number = 0.748\n",
      "Coin toss: i = 5, random number = 0.875\n",
      "Coin toss: i = 6, random number = 0.033\n",
      "Coin toss: i = 7, random number = 0.069\n",
      "Coin toss: i = 8, random number = 0.049\n",
      "Coin toss: i = 9, random number = 0.123\n",
      "Coin toss: i = 10, random number = 0.398\n"
     ]
    }
   ],
   "source": [
    "N = 10 # number of times we toss a coin\n",
    "\n",
    "for i in range(1,N+1):\n",
    "    num = rand.random()\n",
    "    print(\"Coin toss: i = {:d}, random number = {:.3f}\".format(i, num))"
   ]
  },
  {
   "cell_type": "markdown",
   "metadata": {},
   "source": [
    "We will use the variable `i` to track how many times we do something like toss a coin, roll a di, or pick a card, etc."
   ]
  },
  {
   "cell_type": "code",
   "execution_count": null,
   "metadata": {},
   "outputs": [],
   "source": []
  },
  {
   "cell_type": "markdown",
   "metadata": {},
   "source": [
    "# Plot\n",
    "\n",
    "We will often plot data (whether measured data or calculated data from our model) on a graph and use the graph to better understand our model.\n",
    "\n",
    "In this case, let's toss a coin and after each toss, calculate the percentage of heads and plot the percentage of heads as a function of number of coin tosses.\n",
    "\n",
    "To do this, we have to store our results (number of coin tosses and percentage of heads) after each toss in *lists*. After the loop, we can plot the lists of data."
   ]
  },
  {
   "cell_type": "code",
   "execution_count": 17,
   "metadata": {},
   "outputs": [
    {
     "data": {
      "image/png": "[encoded data removed]",
      "text/plain": [
       "<Figure size 576x432 with 1 Axes>"
      ]
     },
     "metadata": {
      "needs_background": "light"
     },
     "output_type": "display_data"
    },
    {
     "name": "stdout",
     "output_type": "stream",
     "text": [
      "Nheads = 7, percent = 70.0\n",
      "Ntails = 3, percent = 30.0\n"
     ]
    }
   ],
   "source": [
    "N = 10 # total number of times we toss a coin\n",
    "\n",
    "Nheads = 0 # this is an integer that counts each head\n",
    "Ntails = 0 # this is an integer that counts each tail\n",
    "\n",
    "# lists to store data\n",
    "Ndata = []\n",
    "Hdata = []\n",
    "\n",
    "for i in range(1,N+1): # i is the toss number\n",
    "    num = rand.random() # select random number between 0 and 1\n",
    "    \n",
    "    # determine if heads or tails\n",
    "    if num < 0.5:\n",
    "        Nheads = Nheads + 1\n",
    "    else:\n",
    "        Ntails = Ntails + 1\n",
    "    \n",
    "    # calculate percentage of heads and tails for ith toss\n",
    "    Hpercent = Nheads/i*100\n",
    "    Tpercent = Ntails/i*100\n",
    "    \n",
    "    # store results in lists for graphing\n",
    "    Ndata.append(i)\n",
    "    Hdata.append(Hpercent)\n",
    "\n",
    "# plot the calculated data\n",
    "plt.figure(figsize=(8,6))\n",
    "plt.title('Percentage of Tosses that are Heads')\n",
    "plt.xlabel('N tosses')\n",
    "plt.ylabel('Percent Heads (%)')\n",
    "plt.grid(which='both', axis='both')\n",
    "plt.plot(Ndata,Hdata,'r-')\n",
    "plt.show()\n",
    "\n",
    "print(\"Nheads = {:d}, percent = {:.1f}\".format(Nheads, Hpercent))\n",
    "print(\"Ntails = {:d}, percent = {:.1f}\".format(Ntails, Tpercent))"
   ]
  },
  {
   "cell_type": "markdown",
   "metadata": {},
   "source": [
    "## Exercise 2 - Law of Large Numbers"
   ]
  },
  {
   "cell_type": "markdown",
   "metadata": {},
   "source": [
    "Copy and paste the previous program to the cell below.\n",
    "\n",
    "Run your program for 100 tosses. What percentage of heads did you get?\n",
    "\n",
    "Repeat your experiment (with 100 tosses). Does the percentage of heads change significantly?"
   ]
  },
  {
   "cell_type": "code",
   "execution_count": null,
   "metadata": {
    "nbgrader": {
     "grade": true,
     "grade_id": "Ex_6",
     "locked": false,
     "points": 1,
     "schema_version": 3,
     "solution": true,
     "task": false
    }
   },
   "outputs": [],
   "source": []
  },
  {
   "cell_type": "markdown",
   "metadata": {},
   "source": [
    "Run your program for 10000 tosses. Discuss the long-term behavior of the plot. For large $N$, what is the expected percentage of heads? What about small $N$?"
   ]
  },
  {
   "cell_type": "code",
   "execution_count": null,
   "metadata": {},
   "outputs": [],
   "source": []
  },
  {
   "cell_type": "markdown",
   "metadata": {},
   "source": [
    "This is generally called the Law of Large Numbers, and here's a [blog article](https://www.cantorsparadise.com/the-law-of-large-numbers-f3c511119c79) about its origin, its significance, and its application."
   ]
  },
  {
   "cell_type": "markdown",
   "metadata": {},
   "source": [
    "## Exercise 3 - Calculating the probability of an event\n",
    "\n",
    "You've discovered a method for approximating the probability of an event -- repeat the trial N times and the probability of the event is the number of times that event occurs divided by the sample size (total number of trials).\n",
    "\n",
    "Suppose you have a six-sided di. Roll the di 10 times. Calculate and print the percentage of times the outcome is 3. Here is a partially written program to start with. You should add the following lines of code:\n",
    "\n",
    "1. calculate the percentage of events that occur and assign it to a variable.\n",
    "2. print the results, including the variables `N`, `Nevents`, and the percentage you calculated."
   ]
  },
  {
   "cell_type": "code",
   "execution_count": 37,
   "metadata": {},
   "outputs": [],
   "source": [
    "N = 10 # number of rolls; the sample size\n",
    "\n",
    "Nevents = 0 #number of times a certain event occurs\n",
    "\n",
    "for i in range(1,N+1):\n",
    "    num = rand.randint(1,6)\n",
    "    if num == 3:\n",
    "        Nevents = Nevents + 1\n"
   ]
  },
  {
   "cell_type": "code",
   "execution_count": null,
   "metadata": {},
   "outputs": [],
   "source": []
  },
  {
   "cell_type": "markdown",
   "metadata": {},
   "source": [
    "Copy and paste your program below. Change whatever is needed to find the probability of rolling a 5 or 6. (Although you may know the probability ahead of time, show that your program gives you the result you expect.)"
   ]
  },
  {
   "cell_type": "code",
   "execution_count": null,
   "metadata": {},
   "outputs": [],
   "source": []
  },
  {
   "cell_type": "markdown",
   "metadata": {},
   "source": [
    "Starting with your program in the previous question, plot the percentage of rolls that gives a 6 as a function of the number of rolls. You will need to add the following:\n",
    "\n",
    "- Lists to store the number of rolls and percentage of sixes. For example,\n",
    "  ```\n",
    "  # lists to store data\n",
    "  Ndata = [] #data for number of rolls\n",
    "  Edata = [] #data for number of events\n",
    "  ```\n",
    "\n",
    "- Calculate the percent of events (rolling a 6) inside the loop and store the roll number and percentage of events in the lists. **This must be inside the loop.** For example,\n",
    "\n",
    "  ```\n",
    "      # store results in lists for graphing\n",
    "      Ndata.append(i)\n",
    "      Edata.append(Epercent)\n",
    "  ```\n",
    "  but use your variable name for the percentage of events.\n",
    "\n",
    "- A graph. Copy and paste from a previous program and change the title, axis labels, and data plotted. In the `plot` statement, you will need to use the variable names for your lists. For example,\n",
    "\n",
    "  ```\n",
    "  plt.plot(Ndata,Edata,'r-')\n",
    "  ```"
   ]
  },
  {
   "cell_type": "code",
   "execution_count": null,
   "metadata": {},
   "outputs": [],
   "source": []
  },
  {
   "cell_type": "markdown",
   "metadata": {},
   "source": [
    "## Exercise 4\n",
    "\n",
    "Suppose you roll a pair of six-sided dice. What is the probability of getting a sum of 7?\n",
    "\n",
    "Here is a sample program. Note that there are two random numbers, one for each di. For large `N`, you should not print values of the individual rolls of the dice."
   ]
  },
  {
   "cell_type": "code",
   "execution_count": 40,
   "metadata": {},
   "outputs": [
    {
     "name": "stdout",
     "output_type": "stream",
     "text": [
      "Di 1 = 1; Di 2 = 4; total = 5\n",
      "Di 1 = 3; Di 2 = 6; total = 9\n",
      "Di 1 = 3; Di 2 = 1; total = 4\n",
      "Di 1 = 5; Di 2 = 2; total = 7\n",
      "Di 1 = 4; Di 2 = 1; total = 5\n",
      "Di 1 = 2; Di 2 = 5; total = 7\n",
      "Di 1 = 2; Di 2 = 4; total = 6\n",
      "Di 1 = 3; Di 2 = 4; total = 7\n",
      "Di 1 = 1; Di 2 = 5; total = 6\n",
      "Di 1 = 3; Di 2 = 5; total = 8\n"
     ]
    }
   ],
   "source": [
    "N = 10 # number of rolls; the sample size\n",
    "\n",
    "Nevents = 0 #number of times a certain event occurs\n",
    "\n",
    "for i in range(1,N+1):\n",
    "    num1 = rand.randint(1,6) #di 1\n",
    "    num2 = rand.randint(1,6) #di 2\n",
    "    total = num1 + num2\n",
    "    print(\"Di 1 = {:d}; Di 2 = {:d}; total = {:d}\".format(num1,num2,total))\n",
    "    if total == 7:\n",
    "        Nevents = Nevents + 1"
   ]
  },
  {
   "cell_type": "markdown",
   "metadata": {},
   "source": [
    "What is the probability of rolling doubles?"
   ]
  },
  {
   "cell_type": "code",
   "execution_count": null,
   "metadata": {},
   "outputs": [],
   "source": []
  }
 ],
 "metadata": {
  "celltoolbar": "Create Assignment",
  "kernelspec": {
   "display_name": "Python 3",
   "language": "python",
   "name": "python3"
  },
  "language_info": {
   "codemirror_mode": {
    "name": "ipython",
    "version": 3
   },
   "file_extension": ".py",
   "mimetype": "text/x-python",
   "name": "python",
   "nbconvert_exporter": "python",
   "pygments_lexer": "ipython3",
   "version": "3.8.3"
  }
 },
 "nbformat": 4,
 "nbformat_minor": 2
}
