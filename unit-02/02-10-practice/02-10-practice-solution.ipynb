{
 "cells": [
  {
   "cell_type": "markdown",
   "metadata": {},
   "source": [
    "# Unit 2 Assessment - Monte Carlo Simulations\n",
    "\n",
    "## Instructions\n",
    "\n",
    "**This is a practice assessment; however, the instructions below are similar to what you will see on the actual assessment. There are some noteable differences. (1) The practice assessment is typically longer than an actual assessment. (2) The actual assessment will have both an individual part and a group part, which you will solve with an assigned partner.**\n",
    "\n",
    "In this assessment, you are going to investigate models that use random numbers. \n",
    "\n",
    "Scores are determined by:\n",
    "\n",
    "- Successfully starting the C Level = 50 pts\n",
    "- Perfectly completing the C Level = 75 pts\n",
    "- Perfectly completing the B and C Levels = 85 pts\n",
    "- Perfectly completing the A, B, and C Levels = 100 pts\n",
    "\n",
    "You may use your Colab notebooks, our textbook, my notebook solutions, and any links to web sites I provide. (You may not use any other person or web site or book or resource, in general.) \n",
    "\n",
    "You may ask me for help **once**; however, you may ask for clarification as often as needed.\n",
    "\n",
    "Add additional cells for both code and markdown as needed. Write answers to questions in narrative form in markdown. You may print values you need in your code, and then use these values in a written response.\n",
    "\n",
    "All graphs should have correct titles and axis labels (with units).\n",
    "\n",
    "## Grade\n",
    "\n",
    "<font color=\"green\"></font>\n",
    "\n",
    "Level | Grade | Comment\n",
    "--- | --- | ---\n",
    "C (75 pts) | | \n",
    "B (10 pts) | | \n",
    "A (15 pts) | | \n",
    "Total | \n"
   ]
  },
  {
   "cell_type": "markdown",
   "metadata": {},
   "source": [
    "# Solutions"
   ]
  },
  {
   "cell_type": "markdown",
   "metadata": {},
   "source": [
    "## Level C\n",
    "\n",
    "### Exercise 0\n",
    "\n",
    "1. Save a copy of this notebook to Google Drive. Then click \"Share\" and share it with \"hpuphysics@gmail.com\". Make sure I have permission to edit your document.\n",
    "\n",
    "2. Add a text cell above and type your name as a level one heading in markdown. (A level one heading starts with # on its own line.)\n",
    "\n",
    "3. Run the `import` statements below to add packages."
   ]
  },
  {
   "cell_type": "code",
   "execution_count": 1,
   "metadata": {},
   "outputs": [],
   "source": [
    "import numpy as np\n",
    "import matplotlib.pyplot as plt\n",
    "import random as rand"
   ]
  },
  {
   "cell_type": "markdown",
   "metadata": {},
   "source": [
    "### Exercise 1\n",
    "\n",
    "Print a random number in the interval $[0,1)$."
   ]
  },
  {
   "cell_type": "code",
   "execution_count": 3,
   "metadata": {},
   "outputs": [
    {
     "name": "stdout",
     "output_type": "stream",
     "text": [
      "0.8768187669660349\n"
     ]
    }
   ],
   "source": [
    "r = rand.random()\n",
    "print(r)"
   ]
  },
  {
   "cell_type": "markdown",
   "metadata": {},
   "source": [
    "### Exercise 2\n",
    "\n",
    "Print a random integer in the interval $[1,6]$."
   ]
  },
  {
   "cell_type": "code",
   "execution_count": 4,
   "metadata": {},
   "outputs": [
    {
     "name": "stdout",
     "output_type": "stream",
     "text": [
      "2\n"
     ]
    }
   ],
   "source": [
    "r = rand.randint(1,6)\n",
    "print(r)"
   ]
  },
  {
   "cell_type": "markdown",
   "metadata": {},
   "source": [
    "### Exercise 3\n",
    "\n",
    "Suppose you have a four-sided di with the numbers 1, 2, 3, and 4. How would a four-sided die (with equal probability of each side) be shaped? You can just describe it. You don't have to know the formal name.\n",
    "\n",
    "It would be shaped like a triangular pyramid with four equilaterial triangles, three on the sides and one on the bottom. To know what you rolled, you would have to pick it up and look at the bottom. Weird, I know."
   ]
  },
  {
   "cell_type": "markdown",
   "metadata": {},
   "source": [
    "### Exercise 4\n",
    "\n",
    "Write a program to roll a four-sided di 100 times and count the number of times you roll a 3. (Print the final result.)"
   ]
  },
  {
   "cell_type": "code",
   "execution_count": 6,
   "metadata": {},
   "outputs": [
    {
     "name": "stdout",
     "output_type": "stream",
     "text": [
      "count =  30\n"
     ]
    }
   ],
   "source": [
    "N = 100\n",
    "\n",
    "count = 0\n",
    "\n",
    "for i in range(N):\n",
    "    r = rand.randint(1,4)\n",
    "    if r == 3:\n",
    "        count = count + 1\n",
    "\n",
    "print(\"count = \", count)"
   ]
  },
  {
   "cell_type": "markdown",
   "metadata": {},
   "source": [
    "### Exercise 5\n",
    "\n",
    "Copy and paste (below) your program from Exercise 4. Adjust your program as necessary to determine the probability of rolling a 3. Compare the result to what you expect from probability theory."
   ]
  },
  {
   "cell_type": "code",
   "execution_count": 11,
   "metadata": {},
   "outputs": [
    {
     "name": "stdout",
     "output_type": "stream",
     "text": [
      "percentage of rolls =  25.0519\n"
     ]
    }
   ],
   "source": [
    "N = 1000000\n",
    "\n",
    "count = 0\n",
    "\n",
    "for i in range(N):\n",
    "    r = rand.randint(1,4)\n",
    "    if r == 3:\n",
    "        count = count + 1\n",
    "\n",
    "p = count/N*100\n",
    "print(\"percentage of rolls = \", p)"
   ]
  },
  {
   "cell_type": "markdown",
   "metadata": {},
   "source": [
    "To determine the probability of rolling a 3, I calculated and printed the percentage of rolls that are a 3 for a very large number of rolls. The probability, to two significant figures, is 25%. For a four-sided di, the probability of rolling a 3 is theoretically 1/4 = 25%."
   ]
  },
  {
   "cell_type": "markdown",
   "metadata": {},
   "source": [
    "### Exercise 6\n",
    "\n",
    "Suppose you roll two four-sided dice and record the sum (total) of the two dice. How many unique combinations of the dice are there and how many unique outcomes (for the sum) exist for the total of two four-sided dice?\n",
    "\n",
    "Here is a table of results\n",
    "\n",
    "di A | di B | total\n",
    "--- | --- | ---\n",
    "1 | 1 | 2\n",
    "1 | 2 | 3\n",
    "1 | 3 | 4\n",
    "1 | 4 | 5\n",
    "2 | 1 | 3\n",
    "2 | 2 | 4\n",
    "2 | 3 | 5\n",
    "2 | 4 | 6\n",
    "3 | 1 | 4\n",
    "3 | 2 | 5\n",
    "3 | 3 | 6\n",
    "3 | 4 | 7\n",
    "4 | 1 | 5\n",
    "4 | 2 | 6\n",
    "4 | 3 | 7\n",
    "4 | 4 | 8\n",
    "\n",
    "There are 16 possible rolls of the dice. Only one outcome gives a total of 2, and one outcome gives a total of 8. The number of ways each outcome can be rolled are shown below.\n",
    "\n",
    "total for two dice | number of ways | probability\n",
    "--- | --- | ---\n",
    "2 | 1 | 1/16 = 6.25%\n",
    "3 | 2 | 2/16 = 12.5%\n",
    "4 | 3 | 3/16 = 18.75%\n",
    "5 | 4 | 4/16 = 25%\n",
    "6 | 3 | 3/16 = 18.75%\n",
    "7 | 2 | 2/16 = 12.5%\n",
    "8 | 1 | 1/16 = 6.25%\n",
    "\n",
    "Note that if you add the number of ways to get each total (or outcome), you get 16, as expected."
   ]
  },
  {
   "cell_type": "markdown",
   "metadata": {},
   "source": [
    "### Exercise 7\n",
    "\n",
    "Write a program to roll two four-sided dice. Calculate and print the percentage of rolls that produces each outcome (i.e. total). Compare your results to your table in the previous exercise. (Note: it is acceptable to write a single program that works for one outcome, record the result, and then edit your program and run it again.)"
   ]
  },
  {
   "cell_type": "code",
   "execution_count": 28,
   "metadata": {},
   "outputs": [
    {
     "name": "stdout",
     "output_type": "stream",
     "text": [
      "probability =  6.337\n"
     ]
    }
   ],
   "source": [
    "N = 100000\n",
    "\n",
    "count = 0\n",
    "\n",
    "for i in range(N):\n",
    "    r1 = rand.randint(1,4)\n",
    "    r2 = rand.randint(1,4)\n",
    "    sum = r1 + r2\n",
    "    if sum == 8:\n",
    "        count = count + 1\n",
    "\n",
    "p = count/N*100\n",
    "print(\"probability = \", p)"
   ]
  },
  {
   "cell_type": "markdown",
   "metadata": {},
   "source": [
    "I changed line 9 to test for each possible sum, from 2 to 8. I used 100000 rolls.\n",
    "\n",
    "The results are:\n",
    "\n",
    "total for two dice | probability\n",
    "--- | ---\n",
    "2 | 6.28%\n",
    "3 | 12.5%\n",
    "4 | 18.6%\n",
    "5 | 25.0%\n",
    "6 | 18.7%\n",
    "7 | 12.4%\n",
    "8 | 6.3%"
   ]
  },
  {
   "cell_type": "markdown",
   "metadata": {},
   "source": [
    "## Level B"
   ]
  },
  {
   "cell_type": "markdown",
   "metadata": {},
   "source": [
    "### Exercise 1\n",
    "\n",
    "Print a random number from a gaussian distribution with a mean of 100 and standard deviation 10."
   ]
  },
  {
   "cell_type": "code",
   "execution_count": 31,
   "metadata": {},
   "outputs": [
    {
     "name": "stdout",
     "output_type": "stream",
     "text": [
      "95.40317319633638\n"
     ]
    }
   ],
   "source": [
    "r = rand.gauss(100, 10)\n",
    "print(r)"
   ]
  },
  {
   "cell_type": "markdown",
   "metadata": {},
   "source": [
    "### Exercise 2\n",
    "\n",
    "There is a philosophy in business called [six sigma](https://en.wikipedia.org/wiki/Six_Sigma). According to Wikipedia, six sigma \"is a set of techniques and tools for process improvement. It was introduced by American engineer Bill Smith while working at Motorola in 1986. Jack Welch made it central to his business strategy at General Electric in 1995. A six sigma process is one in which 99.99966% of all opportunities to produce some feature of a part are statistically expected to be free of defects.\"\n",
    "\n",
    "Re-read that last sentence, \"A six sigma process is one in which 99.99966% of all opportunities to produce some feature of a part are statistically expected to be free of defects.\" That means that a defect will only occur in 34 out of 10 million parts! Where does this number come from? Let's simulate it. **At first, we will only use one sigma. Then we will increase it later.** \n",
    "\n",
    "(a) Write a loop that selects a random number from a gaussian distribution with a mean of 100 and standard deviation of 10. If a random number is greater than the mean minus sigma OR if the random number is less than the mean plus sigma, count the occurrence of this number.\n",
    "\n",
    "Note that if your variables for mean and standard deviation are named `mean` and `stdev` respectively, then an `if` statement that checks whether a random number `r` is greater than the mean minus sigma AND less than the mean plus sigma would be:\n",
    "\n",
    "```python\n",
    "if r > mean - sigma and r < mean + sigma:\n",
    "```\n",
    "\n",
    "Based on your program, what is the probability that that a random number from a gaussian distribution falls within the range of mean $\\pm$ sigma?\n"
   ]
  },
  {
   "cell_type": "code",
   "execution_count": 42,
   "metadata": {},
   "outputs": [
    {
     "name": "stdout",
     "output_type": "stream",
     "text": [
      "probability =  68.2218\n"
     ]
    }
   ],
   "source": [
    "N = 1000000\n",
    "\n",
    "mean = 100\n",
    "sigma = 10\n",
    "count = 0\n",
    "\n",
    "for i in range(N):\n",
    "    r = rand.gauss(mean, sigma)\n",
    "    if r > mean - sigma and r < mean + sigma:\n",
    "        count = count + 1\n",
    "        \n",
    "p = count/N*100\n",
    "print(\"probability = \", p)"
   ]
  },
  {
   "cell_type": "markdown",
   "metadata": {},
   "source": [
    "For one million trials, the probability is 68.2%"
   ]
  },
  {
   "cell_type": "markdown",
   "metadata": {},
   "source": [
    "(b) Theoretically, we expect 68.3% of the data to fall within one standard deviation of the mean. How does your result from the Monte Carlo simulation compare to theory?\n",
    "\n",
    "For one million trials, running my program multiple times gives results between 68.2% and 68.3%. The numerical approximation agrees well with theory."
   ]
  },
  {
   "cell_type": "markdown",
   "metadata": {},
   "source": [
    "(c) Copy your program and paste it below. Using your model, compute the probability a random number from a Gaussian distribution falls within two sigma of the mean."
   ]
  },
  {
   "cell_type": "code",
   "execution_count": 46,
   "metadata": {},
   "outputs": [
    {
     "name": "stdout",
     "output_type": "stream",
     "text": [
      "probability =  95.4324\n"
     ]
    }
   ],
   "source": [
    "N = 1000000\n",
    "\n",
    "mean = 100\n",
    "sigma = 10\n",
    "count = 0\n",
    "\n",
    "for i in range(N):\n",
    "    r = rand.gauss(mean, sigma)\n",
    "    if r > mean - 2*sigma and r < mean + 2*sigma:\n",
    "        count = count + 1\n",
    "        \n",
    "p = count/N*100\n",
    "print(\"probability = \", p)"
   ]
  },
  {
   "cell_type": "markdown",
   "metadata": {},
   "source": [
    "(d) With calculus, it is possible to derive that we expect 95.5% percent of the data to fall within two standard deviations. How does the result you found compare to the theoretical result?\n",
    "\n",
    "For one million trials, running my program multiple times gives results between 95.4% and 95.5%. The numerical approximation agrees well with theory."
   ]
  },
  {
   "cell_type": "markdown",
   "metadata": {},
   "source": [
    "## Level A\n",
    "\n",
    "### Exercise 1\n",
    "\n",
    "A tossed fair coin has a 50% chance (probability = 0.5) of being heads. Write a program to simulate tossing a fair coin and calculate (and print) the percentage of $N$ tosses that are heads."
   ]
  },
  {
   "cell_type": "code",
   "execution_count": 47,
   "metadata": {},
   "outputs": [
    {
     "name": "stdout",
     "output_type": "stream",
     "text": [
      "percentage =  50.0225\n"
     ]
    }
   ],
   "source": [
    "N = 1000000\n",
    "\n",
    "count = 0\n",
    "\n",
    "for i in range(N):\n",
    "    r = rand.random()\n",
    "    if r < 0.5: #heads\n",
    "        count = count + 1\n",
    "\n",
    "p = count/N*100\n",
    "print(\"percentage = \", p)"
   ]
  },
  {
   "cell_type": "markdown",
   "metadata": {},
   "source": [
    "### Exercise 2\n",
    "\n",
    "Suppose we have an unfair coin that is weighted in some way such that the probability of being heads is 0.3. Copy your program from the previous exercise and paste it below. Edit it so that the probability of being heads is 0.3, and calculate (and print) the percentage of $N$ tosses that are heads."
   ]
  },
  {
   "cell_type": "code",
   "execution_count": 48,
   "metadata": {},
   "outputs": [
    {
     "name": "stdout",
     "output_type": "stream",
     "text": [
      "percentage =  30.024099999999997\n"
     ]
    }
   ],
   "source": [
    "N = 1000000\n",
    "\n",
    "count = 0\n",
    "\n",
    "for i in range(N):\n",
    "    r = rand.random()\n",
    "    if r < 0.3: #heads\n",
    "        count = count + 1\n",
    "\n",
    "p = count/N*100\n",
    "print(\"percentage = \", p)"
   ]
  },
  {
   "cell_type": "markdown",
   "metadata": {},
   "source": [
    "### Exercise 3\n",
    "\n",
    "Beth Harmon, the fictious character in the mini-series *Queen's Gambit* has agreed to a particular challenge. She will play two Russian players whom I will call A and C in three alternating games of chess that can be player A, then C, then A again (sequence $ACA$) or player C, then A, then C again (sequence $CAC$). Not only must she win 2 out of 3 games, she must also with two *in a row*.\n",
    "\n",
    "Player C is better than player A, and Beth figures that her probability of beating player A is 0.9, and her probability of beating player C is 0.8.\n",
    "\n",
    "The question is: **Should she choose to play them in the sequence $ACA$ or the sequence $CAC$?**\n",
    "\n",
    "I've written the function below to take a sequence (`ACA` or `CAC` as a string), and determine whether Beth wins two chess games in a row. The function returns a 1 if Beth wins two in a row, and the function returns a 0 if Beth does not win two in a row. The variables `p` and `q` define the probability of beating player A and player C, respectively."
   ]
  },
  {
   "cell_type": "code",
   "execution_count": 58,
   "metadata": {},
   "outputs": [],
   "source": [
    "def sequence(s):\n",
    "    #s should be \"ACA\" or \"CAC\"\n",
    "    p = 0.9 #probability of beating A\n",
    "    q = 0.8 #probability of beating C\n",
    "    \n",
    "    result = 0 #the result is whether she wins two in a row or not\n",
    "        \n",
    "    if s == \"ACA\":\n",
    "        games = [] #store results of a single game as 0 or 1\n",
    "        # play player A\n",
    "        r = rand.random()\n",
    "        if r < p: #Beth wins\n",
    "            games.append(1)\n",
    "        else: #Beth loses\n",
    "            games.append(0)\n",
    "\n",
    "        # play player C\n",
    "        r = rand.random()\n",
    "        if r < q: #Beth wins\n",
    "            games.append(1)\n",
    "        else: #Beth loses\n",
    "            games.append(0)\n",
    "\n",
    "        # play player A\n",
    "        r = rand.random()\n",
    "        if r < p: #Beth wins\n",
    "            games.append(1)\n",
    "        else: #Beth loses\n",
    "            games.append(0)\n",
    "\n",
    "    if s == \"CAC\":\n",
    "        games = [] #store results of a single game as 0 or 1\n",
    "        # play player C\n",
    "        r = rand.random()\n",
    "        if r < q: #Beth wins\n",
    "            games.append(1)\n",
    "        else: #Beth loses\n",
    "            games.append(0)\n",
    "\n",
    "        # play player A\n",
    "        r = rand.random()\n",
    "        if r < p: #Beth wins\n",
    "            games.append(1)\n",
    "        else: #Beth loses\n",
    "            games.append(0)\n",
    "\n",
    "        # play player C\n",
    "        r = rand.random()\n",
    "        if r < q: #Beth wins\n",
    "            games.append(1)\n",
    "        else: #Beth loses\n",
    "            games.append(0)\n",
    "            \n",
    "    \n",
    "    #determine if Beth wins two games in a row\n",
    "    if games[0] == 1 and games[1] == 1:\n",
    "        result = 1\n",
    "    elif games[1] == 1 and games[2] == 1:\n",
    "        result = 1\n",
    "    else:\n",
    "        result = 0\n",
    "    \n",
    "    return result"
   ]
  },
  {
   "cell_type": "markdown",
   "metadata": {},
   "source": [
    "The progam below plays one sequence of three chess games and tells you (with a 1 or 0) whether Beth wins (1) or not (0). Run it to see how it works. Note that you can rerun this cell over and over to see if the result changes. Also, you can try the sequence `\"ACA\"` or the sequence `CAC`."
   ]
  },
  {
   "cell_type": "code",
   "execution_count": 59,
   "metadata": {},
   "outputs": [
    {
     "name": "stdout",
     "output_type": "stream",
     "text": [
      "outcome =  1\n"
     ]
    }
   ],
   "source": [
    "outcome = sequence(\"ACA\")\n",
    "print(\"outcome = \", outcome)"
   ]
  },
  {
   "cell_type": "markdown",
   "metadata": {},
   "source": [
    "Write a loop to answer the following question. What is the probability that Beth wins if she plays the sequence $ACA$?"
   ]
  },
  {
   "cell_type": "code",
   "execution_count": 60,
   "metadata": {},
   "outputs": [
    {
     "name": "stdout",
     "output_type": "stream",
     "text": [
      "probability of winning is  79.041\n"
     ]
    }
   ],
   "source": [
    "N = 100000\n",
    "\n",
    "count = 1\n",
    "\n",
    "for i in range(N):\n",
    "    outcome = sequence(\"ACA\")\n",
    "    \n",
    "    if outcome == 1:\n",
    "        count = count + 1\n",
    "\n",
    "p = count/N*100\n",
    "\n",
    "print(\"probability of winning is \", p)"
   ]
  },
  {
   "cell_type": "markdown",
   "metadata": {},
   "source": [
    "Write a loop to answer the following question. What is the probability that Beth wins if she plays the sequence $CAC$?"
   ]
  },
  {
   "cell_type": "code",
   "execution_count": 61,
   "metadata": {},
   "outputs": [
    {
     "name": "stdout",
     "output_type": "stream",
     "text": [
      "probability of winning is  86.36200000000001\n"
     ]
    }
   ],
   "source": [
    "N = 100000\n",
    "\n",
    "count = 1\n",
    "\n",
    "for i in range(N):\n",
    "    outcome = sequence(\"CAC\")\n",
    "    \n",
    "    if outcome == 1:\n",
    "        count = count + 1\n",
    "\n",
    "p = count/N*100\n",
    "\n",
    "print(\"probability of winning is \", p)"
   ]
  },
  {
   "cell_type": "markdown",
   "metadata": {},
   "source": [
    "If Beth wants to maximize her probability of winning, which sequence should she choose?\n",
    "\n",
    "Beth is more like to win if she plays the more difficult player first and last. So she has to play the more difficult player twice. But this actually increases her probability of winning two in a row. It's very counterintuitive!"
   ]
  },
  {
   "cell_type": "code",
   "execution_count": null,
   "metadata": {},
   "outputs": [],
   "source": []
  }
 ],
 "metadata": {
  "kernelspec": {
   "display_name": "Python 3",
   "language": "python",
   "name": "python3"
  },
  "language_info": {
   "codemirror_mode": {
    "name": "ipython",
    "version": 3
   },
   "file_extension": ".py",
   "mimetype": "text/x-python",
   "name": "python",
   "nbconvert_exporter": "python",
   "pygments_lexer": "ipython3",
   "version": "3.7.7"
  }
 },
 "nbformat": 4,
 "nbformat_minor": 4
}
