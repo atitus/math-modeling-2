{
 "cells": [
  {
   "cell_type": "markdown",
   "metadata": {},
   "source": [
    "# Modified Node Voltage Analysis\n",
    "\n",
    "[Source](https://lpsa.swarthmore.edu/Systems/Electrical/mna/MNA3.html)\n",
    "\n"
   ]
  },
  {
   "cell_type": "code",
   "execution_count": 1,
   "metadata": {},
   "outputs": [],
   "source": [
    "import numpy as np\n",
    "import matplotlib.pyplot as plt #used for graphing\n",
    "import numpy.linalg as la"
   ]
  },
  {
   "cell_type": "markdown",
   "metadata": {},
   "source": [
    "Read circuit and store circuit elements in a list, with each element as a dictionary."
   ]
  },
  {
   "cell_type": "code",
   "execution_count": 98,
   "metadata": {},
   "outputs": [
    {
     "name": "stdout",
     "output_type": "stream",
     "text": [
      "circuit:  ['Is1 0 1 0.01', 'R1 0 1 50', 'R2 1 2 100', 'R3 0 2 200', 'Vs1 2 1 5']\n",
      "Number of nodes, n =  2\n",
      "Number of V sources, m =  1\n",
      "V sources:  [{'name': 's1', 'neg': 2, 'pos': 1, 'val': 5.0}]\n",
      "I sources:  [{'name': 's1', 'neg': 0, 'pos': 1, 'val': 0.01}]\n",
      "Resistors:  [{'name': '1', 'neg': 0, 'pos': 1, 'val': 50.0}, {'name': '2', 'neg': 1, 'pos': 2, 'val': 100.0}, {'name': '3', 'neg': 0, 'pos': 2, 'val': 200.0}]\n",
      "Neg nodes: [0, 1, 2]\n",
      "Pos nodes: [1, 2]\n"
     ]
    }
   ],
   "source": [
    "# Voltage Divider\n",
    "# spice = \"\"\"Vs1 0 1 1.5\n",
    "# R1 1 2 100\n",
    "# R2 2 0 50\"\"\"\n",
    "\n",
    "# Current Divider\n",
    "# spice = \"\"\"Is1 0 1 3\n",
    "# R1 0 1 50\n",
    "# R2 0 1 100\"\"\"\n",
    "\n",
    "# Example 2\n",
    "# spice = \"\"\"Vs1 1 2 32\n",
    "# Vs2 0 3 20\n",
    "# R1 0 1 2\n",
    "# R2 0 2 8\n",
    "# R3 2 3 4\"\"\"\n",
    "\n",
    "# Example 3\n",
    "spice = \"\"\"Is1 0 1 0.01\n",
    "R1 0 1 50\n",
    "R2 1 2 100\n",
    "R3 0 2 200\n",
    "Vs1 2 1 5\"\"\"\n",
    "\n",
    "circuit = spice.split('\\n')\n",
    "print(\"circuit: \", circuit)\n",
    "\n",
    "nodes = {\n",
    "    \"neg\": [],\n",
    "    \"pos\": []\n",
    "}\n",
    "Vsources = []\n",
    "Rs = []\n",
    "Isources = []\n",
    "\n",
    "for line in circuit:\n",
    "    element, neg, pos, val = line.split(' ')\n",
    "    neg = int(neg)\n",
    "    pos = int(pos)\n",
    "    val = float(val)\n",
    "    name = element[1:]\n",
    "    if neg not in nodes['neg']:\n",
    "        nodes['neg'].append(neg)\n",
    "    if pos not in nodes['pos']:\n",
    "        nodes['pos'].append(pos)\n",
    "        \n",
    "    elementDict = {\n",
    "        \"name\": name,\n",
    "        \"neg\": neg,\n",
    "        \"pos\": pos,\n",
    "        \"val\": val\n",
    "    }\n",
    "    \n",
    "    if element[0] == 'V':\n",
    "        Vsources.append(elementDict)\n",
    "    elif element[0] == \"I\":\n",
    "        Isources.append(elementDict)\n",
    "    elif element[0] == \"R\":\n",
    "        Rs.append(elementDict)\n",
    "\n",
    "n = np.max(nodes['pos'])\n",
    "m = len(Vsources)\n",
    "\n",
    "print(\"Number of nodes, n = \", n)\n",
    "print(\"Number of V sources, m = \", m)\n",
    "print(\"V sources: \",Vsources)\n",
    "print(\"I sources: \",Isources)\n",
    "print(\"Resistors: \",Rs)\n",
    "print(\"Neg nodes:\", nodes['neg'])\n",
    "print(\"Pos nodes:\", nodes['pos'])"
   ]
  },
  {
   "cell_type": "code",
   "execution_count": 99,
   "metadata": {},
   "outputs": [],
   "source": [
    "A = np.zeros((n+m, n+m)) #initialize 2D array of size n+m x n+m\n",
    "z = np.zeros(n+m) #initialize 1D array is size n+m x 1\n",
    "\n",
    "#initialize arrays that make up A\n",
    "G = np.zeros((n, n))\n",
    "B = np.zeros((n, m))\n",
    "C = np.zeros((m, n))\n",
    "D = np.zeros((m, m))\n"
   ]
  },
  {
   "cell_type": "code",
   "execution_count": 100,
   "metadata": {},
   "outputs": [
    {
     "name": "stdout",
     "output_type": "stream",
     "text": [
      "[[ 0.03  -0.01 ]\n",
      " [-0.01   0.015]]\n"
     ]
    }
   ],
   "source": [
    "#create G matrix\n",
    "#diagonal\n",
    "for i in range(1,n+1):\n",
    "    cond = 0\n",
    "    for res in Rs:\n",
    "        if res['neg']==i:\n",
    "            R = res['val']\n",
    "            cond = cond + 1/R\n",
    "        elif res['pos']==i:\n",
    "            R = res['val']\n",
    "            cond = cond + 1/R\n",
    "    G[i-1,i-1] = cond\n",
    "#off diagonal\n",
    "for i in range(1,n+1):\n",
    "    for j in range(1,n+1):\n",
    "        for res in Rs:\n",
    "            if (res['neg']==i and res['pos']==j) or (res['neg']==j and res['pos']==i):\n",
    "                cond = 1/res['val']\n",
    "                G[i-1,j-1] = -cond\n",
    "\n",
    "print(G)"
   ]
  },
  {
   "cell_type": "code",
   "execution_count": 101,
   "metadata": {},
   "outputs": [
    {
     "name": "stdout",
     "output_type": "stream",
     "text": [
      "[[ 1.]\n",
      " [-1.]]\n"
     ]
    }
   ],
   "source": [
    "#create B matrix\n",
    "for s in range(1,m+1):\n",
    "    nnode = Vsources[s-1]['neg']\n",
    "    pnode = Vsources[s-1]['pos']\n",
    "    if(nnode!=0):\n",
    "        B[nnode-1,s-1] = -1\n",
    "    if(pnode!=0):\n",
    "        B[pnode-1,s-1] = 1\n",
    "\n",
    "print(B)"
   ]
  },
  {
   "cell_type": "code",
   "execution_count": 102,
   "metadata": {},
   "outputs": [
    {
     "name": "stdout",
     "output_type": "stream",
     "text": [
      "[[ 1. -1.]]\n"
     ]
    }
   ],
   "source": [
    "#create C matrix\n",
    "for s in range(1,m+1):\n",
    "    nnode = Vsources[s-1]['neg']\n",
    "    pnode = Vsources[s-1]['pos']\n",
    "    if(nnode!=0):\n",
    "        C[s-1,nnode-1] = -1\n",
    "    if(pnode!=0):\n",
    "        C[s-1,pnode-1] = 1\n",
    "\n",
    "print(C)"
   ]
  },
  {
   "cell_type": "code",
   "execution_count": 103,
   "metadata": {},
   "outputs": [
    {
     "name": "stdout",
     "output_type": "stream",
     "text": [
      "[0.01 0.   5.  ]\n"
     ]
    }
   ],
   "source": [
    "#create z matrix from i and e matrices\n",
    "iarr = np.zeros(n)\n",
    "earr = np.zeros(m)\n",
    "\n",
    "#create i matrix\n",
    "for node in range(1,n+1):\n",
    "    for s in Isources:\n",
    "        if s['pos'] == node:\n",
    "            iarr[node-1] = iarr[node-1] + s['val']\n",
    "\n",
    "#create e matrix\n",
    "for v in range(1,m+1):\n",
    "    earr[v-1] = Vsources[v-1]['val']\n",
    "    \n",
    "#create z matrix\n",
    "z[:n] = iarr\n",
    "z[n:] = earr\n",
    "\n",
    "print(z)"
   ]
  },
  {
   "cell_type": "code",
   "execution_count": 104,
   "metadata": {},
   "outputs": [
    {
     "name": "stdout",
     "output_type": "stream",
     "text": [
      "[[ 0.03  -0.01   1.   ]\n",
      " [-0.01   0.015 -1.   ]\n",
      " [ 1.    -1.     0.   ]]\n"
     ]
    }
   ],
   "source": [
    "A[:n,:n] = G[:,:]\n",
    "A[:n,n:] = B[:,:]\n",
    "A[n:,:n] = C[:,:]\n",
    "A[n:,n:] = D[:,:]\n",
    "\n",
    "print(A)"
   ]
  },
  {
   "cell_type": "markdown",
   "metadata": {},
   "source": [
    "Solve for node voltages and currents through voltage sources."
   ]
  },
  {
   "cell_type": "code",
   "execution_count": 105,
   "metadata": {},
   "outputs": [
    {
     "data": {
      "text/plain": [
       "array([ 1.4  , -3.6  , -0.068])"
      ]
     },
     "execution_count": 105,
     "metadata": {},
     "output_type": "execute_result"
    }
   ],
   "source": [
    "#solve for x in Ax = z\n",
    "Ainv = la.inv(A)\n",
    "x = Ainv@z\n",
    "x"
   ]
  },
  {
   "cell_type": "code",
   "execution_count": null,
   "metadata": {},
   "outputs": [],
   "source": []
  }
 ],
 "metadata": {
  "kernelspec": {
   "display_name": "Python 3",
   "language": "python",
   "name": "python3"
  },
  "language_info": {
   "codemirror_mode": {
    "name": "ipython",
    "version": 3
   },
   "file_extension": ".py",
   "mimetype": "text/x-python",
   "name": "python",
   "nbconvert_exporter": "python",
   "pygments_lexer": "ipython3",
   "version": "3.8.3"
  }
 },
 "nbformat": 4,
 "nbformat_minor": 4
}
