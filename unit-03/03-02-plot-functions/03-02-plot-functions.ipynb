{
 "cells": [
  {
   "cell_type": "code",
   "execution_count": 5,
   "metadata": {},
   "outputs": [],
   "source": [
    "import numpy as np\n",
    "import matplotlib.pyplot as plt\n",
    "import pandas as pd"
   ]
  },
  {
   "cell_type": "markdown",
   "metadata": {},
   "source": [
    "# Plot Functions\n",
    "\n",
    "## Review\n",
    "\n",
    "In the last notebook, you learned to plot a mathematical function (i.e. an emperical model). Our example was a mathematical function relating brain mass to body mass of mammals:\n",
    "\n",
    "$$m = 8.5M^{0.75}$$\n",
    "\n",
    "where $m$ is the brain mass in grams and $M$ is the body mass in kilograms. Using this model, you can predict the brain mass of a mammal if you know its body mass.\n",
    "\n",
    "First you created a Python function `brain_mass` that takes a body mass `M` and calculates and returns a brain mass `m`. In the example below, we use the `lambda` function as a way to create the `brain_mass` function. Then, we use the `format()` function to insert the variable `m` into our string and print it with 1 significant figure.\n"
   ]
  },
  {
   "cell_type": "code",
   "execution_count": 6,
   "metadata": {},
   "outputs": [
    {
     "name": "stdout",
     "output_type": "stream",
     "text": [
      "Our model predicts that a 100 kg mammal would have a brain_mass of 268.8 grams.\n"
     ]
    }
   ],
   "source": [
    "brain_mass = lambda M: 8.5*M**0.75 #g\n",
    "    \n",
    "m = brain_mass(100)\n",
    "print(\"Our model predicts that a 100 kg mammal would have a brain_mass of {:.1f} grams.\".format(m))"
   ]
  },
  {
   "cell_type": "markdown",
   "metadata": {},
   "source": [
    "In the example above, we send the value 100 to the `brain_mass` function. Equivalently, we can define a variable `M`, give it the value 100, and send `M` to our function. It gives the same result, of course."
   ]
  },
  {
   "cell_type": "code",
   "execution_count": 7,
   "metadata": {},
   "outputs": [
    {
     "name": "stdout",
     "output_type": "stream",
     "text": [
      "Our model predicts that a 100 kg mammal would have a brain_mass of 268.8 grams.\n"
     ]
    }
   ],
   "source": [
    "brain_mass = lambda M: 8.5*M**0.75 #g\n",
    "\n",
    "M = 100\n",
    "m = brain_mass(M)\n",
    "print(\"Our model predicts that a 100 kg mammal would have a brain_mass of {:.1f} grams.\".format(m))"
   ]
  },
  {
   "cell_type": "markdown",
   "metadata": {},
   "source": [
    "Then, we used this Python function to calculate and plot the brain mass for an array of different values of `M`."
   ]
  },
  {
   "cell_type": "code",
   "execution_count": 8,
   "metadata": {},
   "outputs": [
    {
     "name": "stdout",
     "output_type": "stream",
     "text": [
      "Body masses in kg:  [   1    5   10  100  500 1000]\n",
      "Brain masses in g:  [   8.5          28.42146296   47.79901264  268.79360111  898.76557392\n",
      " 1511.53749853]\n"
     ]
    },
    {
     "data": {
      "image/png": "[encoded data removed]",
      "text/plain": [
       "<Figure size 432x288 with 1 Axes>"
      ]
     },
     "metadata": {
      "needs_background": "light"
     },
     "output_type": "display_data"
    }
   ],
   "source": [
    "# calculate\n",
    "M = np.array([1, 5, 10, 100, 500, 1000])\n",
    "m = brain_mass(M)\n",
    "print(\"Body masses in kg: \", M)\n",
    "print(\"Brain masses in g: \", m)\n",
    "\n",
    "# plot\n",
    "fig = plt.figure()\n",
    "plt.title('Brain Mass vs. Body Mass for Mammals')\n",
    "plt.xlabel('Body Mass (kg)')\n",
    "plt.ylabel('Brain Mass (g)')\n",
    "plt.plot(M, m, 'b.') #this specifies the data to plot in the format (horizontal, vertical)\n",
    "plt.show()"
   ]
  },
  {
   "cell_type": "markdown",
   "metadata": {},
   "source": [
    "## Use `linspace` to create the array of values for the independent variable"
   ]
  },
  {
   "cell_type": "markdown",
   "metadata": {},
   "source": [
    "Another way to create an array of values of the independent variable is to use the numpy `1inspace()` function. The syntax is:\n",
    "\n",
    "```\n",
    "np.linspace(min, max, number of points)\n",
    "\n",
    "```\n",
    "\n",
    "where `np` is the alias we used for `numpy` when importing this package in the first code cell in the notebook.\n",
    "\n",
    "As an example, let's create 100 values of `M` from 0 to 1000 and calculate and plot the brain mass for each value of `M`. Normally it's not necessary to print all of these values. But for clarity, I print them below."
   ]
  },
  {
   "cell_type": "code",
   "execution_count": 9,
   "metadata": {},
   "outputs": [
    {
     "name": "stdout",
     "output_type": "stream",
     "text": [
      "Body masses in kg:  [   0.           10.1010101    20.2020202    30.3030303    40.4040404\n",
      "   50.50505051   60.60606061   70.70707071   80.80808081   90.90909091\n",
      "  101.01010101  111.11111111  121.21212121  131.31313131  141.41414141\n",
      "  151.51515152  161.61616162  171.71717172  181.81818182  191.91919192\n",
      "  202.02020202  212.12121212  222.22222222  232.32323232  242.42424242\n",
      "  252.52525253  262.62626263  272.72727273  282.82828283  292.92929293\n",
      "  303.03030303  313.13131313  323.23232323  333.33333333  343.43434343\n",
      "  353.53535354  363.63636364  373.73737374  383.83838384  393.93939394\n",
      "  404.04040404  414.14141414  424.24242424  434.34343434  444.44444444\n",
      "  454.54545455  464.64646465  474.74747475  484.84848485  494.94949495\n",
      "  505.05050505  515.15151515  525.25252525  535.35353535  545.45454545\n",
      "  555.55555556  565.65656566  575.75757576  585.85858586  595.95959596\n",
      "  606.06060606  616.16161616  626.26262626  636.36363636  646.46464646\n",
      "  656.56565657  666.66666667  676.76767677  686.86868687  696.96969697\n",
      "  707.07070707  717.17171717  727.27272727  737.37373737  747.47474747\n",
      "  757.57575758  767.67676768  777.77777778  787.87878788  797.97979798\n",
      "  808.08080808  818.18181818  828.28282828  838.38383838  848.48484848\n",
      "  858.58585859  868.68686869  878.78787879  888.88888889  898.98989899\n",
      "  909.09090909  919.19191919  929.29292929  939.39393939  949.49494949\n",
      "  959.5959596   969.6969697   979.7979798   989.8989899  1000.        ]\n",
      "Brain masses in g:  [   0.           48.16067107   80.99627132  109.78258958  136.21894841\n",
      "  161.0349093   184.63157207  207.26027009  229.09205081  250.25018767\n",
      "  270.82735593  290.89552722  310.51205419  329.7236084   348.56883629\n",
      "  367.08021218  385.28536858  403.20807473  420.86897146  438.28613332\n",
      "  455.47550551  472.45124831  489.22601211  505.81115951  522.21694652\n",
      "  538.4526718   554.52680066  570.4470688   586.22056982  601.85382946\n",
      "  617.35286906  632.72325996  647.97017058  663.09840714  678.11244929\n",
      "  693.01648116  707.81441879  722.50993417  737.10647673  751.6072922\n",
      "  766.01543963  780.33380648  794.56512217  808.7119703   822.77679966\n",
      "  836.76193412  850.66958165  864.5018425   878.26071662  891.94811042\n",
      "  905.565843    919.11565177  932.59919768  946.01806995  959.3737905\n",
      "  972.66781796  985.90155142  999.07633387 1012.1934554  1025.25415616\n",
      " 1038.25962907 1051.21102245 1064.1094423  1076.95595458 1089.75158726\n",
      " 1102.49733221 1115.19414705 1127.84295681 1140.44465549 1153.00010759\n",
      " 1165.51014944 1177.97559056 1190.39721484 1202.77578172 1215.11202727\n",
      " 1227.4066652  1239.66038788 1251.87386718 1264.04775538 1276.18268597\n",
      " 1288.27927443 1300.33811896 1312.35980114 1324.34488665 1336.29392583\n",
      " 1348.20745433 1360.0859936  1371.93005151 1383.74012278 1395.51668952\n",
      " 1407.26022165 1418.97117737 1430.65000355 1442.29713618 1453.91300068\n",
      " 1465.49801232 1477.05257653 1488.57708926 1500.07193729 1511.53749853]\n"
     ]
    },
    {
     "data": {
      "image/png": "[encoded data removed]",
      "text/plain": [
       "<Figure size 432x288 with 1 Axes>"
      ]
     },
     "metadata": {
      "needs_background": "light"
     },
     "output_type": "display_data"
    }
   ],
   "source": [
    "# calculate\n",
    "M = np.linspace(0,1000,100)\n",
    "m = brain_mass(M)\n",
    "print(\"Body masses in kg: \", M)\n",
    "print(\"Brain masses in g: \", m)\n",
    "\n",
    "# plot\n",
    "fig = plt.figure()\n",
    "plt.title('Brain Mass vs. Body Mass for Mammals')\n",
    "plt.xlabel('Body Mass (kg)')\n",
    "plt.ylabel('Brain Mass (g)')\n",
    "plt.plot(m, M, 'b.') #this specifies the data to plot in the format (horizontal, vertical)\n",
    "plt.show()"
   ]
  },
  {
   "cell_type": "markdown",
   "metadata": {},
   "source": [
    "### Exercise\n",
    "\n",
    "Plot 500 data points for brain mass vs. body mass for mammals with a body mass less than 50 kg. (Do not print the values of the independent and dependent variables. Just plot it.)"
   ]
  },
  {
   "cell_type": "code",
   "execution_count": null,
   "metadata": {},
   "outputs": [],
   "source": []
  },
  {
   "cell_type": "markdown",
   "metadata": {},
   "source": [
    "## More about the `plot` command\n",
    "\n",
    "The plot command used in the example of brain mass and body mass\n",
    "\n",
    "```python\n",
    "\n",
    "plt.plot(m, M, 'b.')\n",
    "\n",
    "```\n",
    "\n",
    "takes as input the data array for the horizontal axis, the data array for the vertical axis, and parameters to determine the type and color of the data point. In this case ``b`` is for blue and ``.`` is for a small filled circle.\n",
    "\n",
    "### Exercise\n",
    "\n",
    "In the program below, change the `b.` to `r.` and see what happens.\n",
    "\n",
    "### Exercise\n",
    "\n",
    "Try `r-` and see what happens.\n",
    "\n",
    "### Exercise\n",
    "\n",
    "Try `mo` and see what happens.\n",
    "\n",
    "### Exercise\n",
    "\n",
    "Try `m--` and see what happens.\n",
    "\n"
   ]
  },
  {
   "cell_type": "code",
   "execution_count": 10,
   "metadata": {},
   "outputs": [
    {
     "data": {
      "image/png": "[encoded data removed]",
      "text/plain": [
       "<Figure size 432x288 with 1 Axes>"
      ]
     },
     "metadata": {
      "needs_background": "light"
     },
     "output_type": "display_data"
    }
   ],
   "source": [
    "# calculate\n",
    "M = np.linspace(0,1000,100)\n",
    "m = brain_mass(M)\n",
    "\n",
    "# plot\n",
    "fig = plt.figure()\n",
    "plt.title('Brain Mass vs. Body Mass for Mammals')\n",
    "plt.xlabel('Body Mass (kg)')\n",
    "plt.ylabel('Brain Mass (g)')\n",
    "plt.plot(M, m, 'b.') #this specifies the data to plot in the format (horizontal, vertical)\n",
    "plt.show()"
   ]
  },
  {
   "cell_type": "markdown",
   "metadata": {},
   "source": [
    "This is how you specify color and marker type.\n",
    "\n",
    "Here are letters for various colors.\n",
    "\n",
    "| letter | color || letter | color |\n",
    "| -- | -- | -- |  -- | -- |\n",
    "|b | blue || m | magenta |\n",
    "|g  |  green  ||  y  |  yellow  | \n",
    "|r  |  red || k  |  black |\n",
    "|c | cyan || w | white |\n",
    "\n",
    "Here are symbols for various types of markers.\n",
    "\n",
    "| symbol | marker || symbol | marker |\n",
    "| -- | -- | -- |  -- | -- |\n",
    "| `s` | square marker | | `p` | pentagon marker |\n",
    "|`D` | diamond marker | | `d` | thin diamond marker|\n",
    "|`*` | star marker | | `+` | plus marker|\n",
    "|`h` | hexagon1 marker | | `H` | hexagon2 marker|\n",
    "|`x` | x marker | | | | |\n",
    "\n",
    "Use `-` for solid line and `--` for a dashed line."
   ]
  },
  {
   "cell_type": "markdown",
   "metadata": {},
   "source": [
    "### Exercise\n",
    "\n",
    "In the cell below, try plotting the graph with various colors, marker types, and lines."
   ]
  },
  {
   "cell_type": "code",
   "execution_count": 11,
   "metadata": {},
   "outputs": [
    {
     "data": {
      "image/png": "[encoded data removed]",
      "text/plain": [
       "<Figure size 432x288 with 1 Axes>"
      ]
     },
     "metadata": {
      "needs_background": "light"
     },
     "output_type": "display_data"
    }
   ],
   "source": [
    "# calculate\n",
    "M = np.linspace(0,1000,100)\n",
    "m = brain_mass(M)\n",
    "\n",
    "# plot\n",
    "fig = plt.figure()\n",
    "plt.title('Brain Mass vs. Body Mass for Mammals')\n",
    "plt.xlabel('Body Mass (kg)')\n",
    "plt.ylabel('Brain Mass (g)')\n",
    "plt.plot(M, m, 'b.') #this specifies the data to plot in the format (horizontal, vertical)\n",
    "plt.show()"
   ]
  },
  {
   "cell_type": "code",
   "execution_count": null,
   "metadata": {},
   "outputs": [],
   "source": []
  },
  {
   "cell_type": "markdown",
   "metadata": {},
   "source": [
    "### Exercise\n",
    "\n",
    "In physics lab, an object hangs from a spring and oscillates up and down. It's height $h$ above the table in meters is described by\n",
    "\n",
    "$$h=0.05\\cos(\\pi t + 1.1)+0.1$$\n",
    "\n",
    "where $t$ is in seconds and the angle (the argument of the cosine function) is in radians.\n",
    "\n",
    "1. Plot 400 data points for the time `t` between 0 and 6 seconds. First, plot points. Then, choose another color and plot a solid line.\n",
    "2. Change your graph so it is still a solid line but only plots 10 data points. Then change it to plot 1000 data points. Do you notice a difference in the smoothness of the line?"
   ]
  },
  {
   "cell_type": "code",
   "execution_count": null,
   "metadata": {},
   "outputs": [],
   "source": []
  },
  {
   "cell_type": "markdown",
   "metadata": {},
   "source": [
    "## Homework"
   ]
  },
  {
   "cell_type": "markdown",
   "metadata": {},
   "source": [
    "### Exercise 1\n",
    "\n",
    "Find the formula to convert temperature in degrees Fahrenheit to the temperature in degrees Celsius. Plot a graph of the temperature in Celsius as a function of the temperature in Fahrenheit for temperatures ranging from -40 degrees Fahrenheit to 115 degrees Fahrenheit, which is an approximate range of low to high temperatures in the U.S. in one year. **Your graph should have a proper title and axis labels.**"
   ]
  },
  {
   "cell_type": "code",
   "execution_count": null,
   "metadata": {},
   "outputs": [],
   "source": []
  },
  {
   "cell_type": "markdown",
   "metadata": {},
   "source": [
    "### Exercise 2\n",
    "\n",
    "Find the formula to convert temperature in degrees Celsius to the temperature in degrees Fahrenheit. Plot a graph of the temperature in Fahrenheit as a function of the temperature in Celsius for temperatures ranging from an annual low to an annual high for Czech Replublic. This might be useful for honors students traveling to Prague in 2023. **Your graph should have a proper title and axis labels.**"
   ]
  },
  {
   "cell_type": "code",
   "execution_count": null,
   "metadata": {},
   "outputs": [],
   "source": []
  },
  {
   "cell_type": "markdown",
   "metadata": {},
   "source": [
    "## Exercise 3\n",
    "\n",
    "Find a mathematical function or equation of some kind (different than the one from our previous notebook) and plot the function with a proper title and axis labels."
   ]
  },
  {
   "cell_type": "code",
   "execution_count": null,
   "metadata": {},
   "outputs": [],
   "source": []
  }
 ],
 "metadata": {
  "kernelspec": {
   "display_name": "Python 3",
   "language": "python",
   "name": "python3"
  },
  "language_info": {
   "codemirror_mode": {
    "name": "ipython",
    "version": 3
   },
   "file_extension": ".py",
   "mimetype": "text/x-python",
   "name": "python",
   "nbconvert_exporter": "python",
   "pygments_lexer": "ipython3",
   "version": "3.8.5"
  }
 },
 "nbformat": 4,
 "nbformat_minor": 4
}
