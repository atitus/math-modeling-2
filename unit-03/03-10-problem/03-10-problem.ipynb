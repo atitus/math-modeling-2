{
 "cells": [
  {
   "cell_type": "markdown",
   "metadata": {},
   "source": [
    "# Unit 3 Assessment - Empirical Models\n",
    "\n",
    "## Instructions\n",
    "\n",
    "In this assessment, you are going to develop an emperical model by fitting a curve to data, and you will use your model to make predictions.\n",
    "\n",
    "Scores are determined by:\n",
    "\n",
    "- Successfully starting the C Level = 50 pts\n",
    "- Perfectly completing the C Level = 75 pts\n",
    "- Perfectly completing the B and C Levels = 85 pts\n",
    "- Perfectly completing the A, B, and C Levels = 100 pts\n",
    "\n",
    "You may use your Colab notebooks, our textbook, my notebook solutions, and any links to web sites I provide. (You may not use any other person or web site or book or resource, in general.) \n",
    "\n",
    "You may ask me for help **once**; however, you may ask for clarification as often as needed.\n",
    "\n",
    "Add additional cells for both code and markdown as needed. Write answers to questions in narrative form in markdown. You may print values you need in your code, and then use these values in a written response.\n",
    "\n",
    "All graphs should have correct titles and axis labels (with units).\n",
    "\n",
    "## Grade\n",
    "\n",
    "<font color=\"green\"></font>\n",
    "\n",
    "Level | Grade | Comment\n",
    "--- | --- | ---\n",
    "C (75 pts) | | \n",
    "B (10 pts) | | \n",
    "A (15 pts) | | \n",
    "Total | \n"
   ]
  },
  {
   "cell_type": "markdown",
   "metadata": {},
   "source": [
    "# Level C\n",
    "\n",
    "## Exercise 0\n",
    "\n",
    "1. Save a copy of this notebook to Google Drive. Have you already shared your Google Colabortory folder with \"hpuphysics@gmail.com\"? If not, then be sure to share your folder.\n",
    "\n",
    "2. Add a text cell above and type your name as a level one heading in markdown. (A level one heading starts with # on its own line.)\n",
    "\n",
    "3. Run the `import` statements below to add packages."
   ]
  },
  {
   "cell_type": "code",
   "execution_count": null,
   "metadata": {},
   "outputs": [],
   "source": [
    "import numpy as np #used for arrays and numerical functions\n",
    "import pandas as pd #used for reading a data file\n",
    "import matplotlib.pyplot as plt #used for graphing\n",
    "from io import StringIO #used to convert string to a dataframe\n",
    "from scipy.optimize import curve_fit #used to find the fit parameters"
   ]
  },
  {
   "cell_type": "markdown",
   "metadata": {},
   "source": [
    "## Exercise 1"
   ]
  },
  {
   "cell_type": "markdown",
   "metadata": {},
   "source": [
    "Older people generally have high blood pressure compared to younger people. This [data set](https://raw.githubusercontent.com/atitus/math-modeling-2/main/unit-03/03-10-problem/blood-pressure-data.txt), shows the systolic blood pressure (in mm Hg) for people of various ages. Read the data and graph the systolic blood pressure as a function of age."
   ]
  },
  {
   "cell_type": "code",
   "execution_count": null,
   "metadata": {},
   "outputs": [],
   "source": []
  },
  {
   "cell_type": "markdown",
   "metadata": {},
   "source": [
    "## Exercise 2"
   ]
  },
  {
   "cell_type": "markdown",
   "metadata": {},
   "source": [
    "For the data in Exercise 1, do a linear curve fit and print the best-fit parameters for blood pressure as a function of age. Plot the best-fit curve and the data on the same graph."
   ]
  },
  {
   "cell_type": "code",
   "execution_count": null,
   "metadata": {},
   "outputs": [],
   "source": []
  },
  {
   "cell_type": "markdown",
   "metadata": {},
   "source": [
    "## Exercise 3"
   ]
  },
  {
   "cell_type": "markdown",
   "metadata": {},
   "source": [
    "Using your curve-fit, predict the blood pressure of a person at 90 years old, and predict the blood pressure of a newborn infant."
   ]
  },
  {
   "cell_type": "markdown",
   "metadata": {},
   "source": [
    "## Exercise 4\n",
    "\n",
    "On average, by what percentage will a person's blood pressure increase between the age of 30 and the age of 50? You should use your model to answer the question, not individual data points.\n",
    "\n",
    "Note: **percent increase** is the change in a quantity divided by the initial value of the quantity, expressed as a percentage."
   ]
  },
  {
   "cell_type": "markdown",
   "metadata": {},
   "source": [
    "## Exercise 5\n",
    "\n",
    "What is a limitation of this data set and why should we not make any general conclusions (or general health recommendations or predictions) based on this data set? There are many limitations. For the sake of time, describe only one limitation."
   ]
  },
  {
   "cell_type": "markdown",
   "metadata": {},
   "source": [
    "# Level B\n",
    "\n"
   ]
  },
  {
   "cell_type": "markdown",
   "metadata": {},
   "source": [
    "## Exercise 1\n",
    "\n",
    "Two HPU alumni, Chris Schorn and Shane Wiess, tested a t-shirt launcher designed and constructed by alumnus Noah Novembre. Chris and Shane measured the exit speed of a t-shirt as a function of the air pressure in the barrel. This [file](https://raw.githubusercontent.com/atitus/math-modeling-2/main/unit-03/03-10-problem/pressure-speed.txt) has their data.\n",
    "\n",
    "Read the data and plot the exit speed of the t-shirt (when exiting the barrel) as a function of the air pressure in the barrel."
   ]
  },
  {
   "cell_type": "code",
   "execution_count": null,
   "metadata": {},
   "outputs": [],
   "source": []
  },
  {
   "cell_type": "markdown",
   "metadata": {},
   "source": [
    "## Exercise 2\n",
    "\n"
   ]
  },
  {
   "cell_type": "markdown",
   "metadata": {},
   "source": [
    "Fit a curve to the exit speed as a function of air pressure using a power law plus a constant, of the form:\n",
    "\n",
    "$$y = Ax^n + B$$\n",
    "\n",
    "where $y$ is the air pressure and $x$ is the exit speed. Print the values of the best-fit parameters, A and B, and plot the best-fit curve on the same graph as the data."
   ]
  },
  {
   "cell_type": "code",
   "execution_count": null,
   "metadata": {},
   "outputs": [],
   "source": []
  },
  {
   "cell_type": "markdown",
   "metadata": {},
   "source": [
    "## Exercise 3\n",
    "\n",
    "Acccording to your model, what is the exit speed when the pressure is zero? \n",
    "\n",
    "Is this physically possible?"
   ]
  },
  {
   "cell_type": "markdown",
   "metadata": {},
   "source": [
    "## Exercise 4\n",
    "\n",
    "What is the minimum air pressure in the barrel in order for a t-shirt to exit the barrel (in other words, its exit speed is close to zero)?"
   ]
  },
  {
   "cell_type": "markdown",
   "metadata": {},
   "source": [
    "## Exercise 5\n",
    "\n",
    "The barrel is composed of PVC that is rated for a maximum of 140 psi. At the maximum pressure for the barrel, what do you predict the exit speed of a t-shirt to be?"
   ]
  },
  {
   "cell_type": "markdown",
   "metadata": {},
   "source": [
    "# Level A"
   ]
  },
  {
   "cell_type": "markdown",
   "metadata": {},
   "source": [
    "In Earth's atmosphere, a horizontal \"slice\" of air has to support the weight of the column of air above it. As a result, near Earth's surface the air pressure is greater than the air pressure at higher alitudes because near Earth, it has to support the weight of a much taller column. As a result, air pressure decreases with altitude.\n",
    "\n",
    "But air is also compressible. Thus, near Earth, supporting a tall column of air causes the \"slice\" of air to compress and become more dense. At higher altitudes the air pressure is less so the air compresses less and is less dense. This variation in air density also contributes to a decreasing air pressure. \n",
    "\n",
    "As a result of each of the factors in the previous two paragraphs, the air pressure decreases non-linearly.\n",
    "\n",
    "HPU alumnus Zach Hutchens (who is currently a PhD student in astrophysics at UNC) built a high-altitude balloon in which he counted muons in the Earth's atmosphere that result from cosmic rays interacting with the atmosphere. Along the way, he measured the air pressure as a function of the altitude of the balloon."
   ]
  },
  {
   "cell_type": "markdown",
   "metadata": {},
   "source": [
    "## Exercise 1"
   ]
  },
  {
   "cell_type": "markdown",
   "metadata": {},
   "source": [
    "Zach's data for air pressure and altitude is in the file [air-pressure-data.txt](https://raw.githubusercontent.com/atitus/math-modeling-2/main/unit-03/03-10-problem/air-pressure-data.txt). Read the data and plot the air pressure as a function of altitude."
   ]
  },
  {
   "cell_type": "code",
   "execution_count": null,
   "metadata": {},
   "outputs": [],
   "source": []
  },
  {
   "cell_type": "markdown",
   "metadata": {},
   "source": [
    "## Exercise 2\n",
    "\n",
    "Fit the data for air pressure as a function of altitude with an exponential decay model:\n",
    "\n",
    "$$y = Ae^{-rx}$$\n",
    "\n",
    "where $A$ and $r$ are curve fit parameters. Plot the model and data on the same axes."
   ]
  },
  {
   "cell_type": "code",
   "execution_count": null,
   "metadata": {},
   "outputs": [],
   "source": []
  },
  {
   "cell_type": "markdown",
   "metadata": {},
   "source": [
    "## Exercise 3\n",
    "\n",
    "How high did Zach's balloon travel in feet? (There are 3.28 feet in one meter.)"
   ]
  },
  {
   "cell_type": "code",
   "execution_count": null,
   "metadata": {},
   "outputs": [],
   "source": []
  },
  {
   "cell_type": "markdown",
   "metadata": {},
   "source": [
    "## Exercise 4\n",
    "\n",
    "If Zach's balloon had travelled to 50,000 m, what does your model predict for the air pressure? \n",
    "\n",
    "If you want to graph data within a certain range, you can use:\n",
    "\n",
    "```\n",
    "plt.xlim(xmin,xmax)\n",
    "plt.ylim(ymin,ymax)\n",
    "```\n",
    "\n",
    "where `xmin`, `xmax`, `ymin`, and `ymax` are the minimum and maximum values on the x and y axes, respectively."
   ]
  },
  {
   "cell_type": "code",
   "execution_count": null,
   "metadata": {},
   "outputs": [],
   "source": []
  },
  {
   "cell_type": "markdown",
   "metadata": {},
   "source": [
    "## Exercise 5\n",
    "\n",
    "A theoretical calculation for the air pressure at an altitude of 50,000 m is approximately 67 Pa. Compare your model's prediction to this value. Does your model predict too large of a pressure at this altitude or too small?"
   ]
  },
  {
   "cell_type": "code",
   "execution_count": null,
   "metadata": {},
   "outputs": [],
   "source": []
  }
 ],
 "metadata": {
  "kernelspec": {
   "display_name": "Python 3",
   "language": "python",
   "name": "python3"
  },
  "language_info": {
   "codemirror_mode": {
    "name": "ipython",
    "version": 3
   },
   "file_extension": ".py",
   "mimetype": "text/x-python",
   "name": "python",
   "nbconvert_exporter": "python",
   "pygments_lexer": "ipython3",
   "version": "3.8.3"
  }
 },
 "nbformat": 4,
 "nbformat_minor": 4
}
