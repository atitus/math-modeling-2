{
 "cells": [
  {
   "cell_type": "markdown",
   "metadata": {},
   "source": [
    "# Unit 3 Assessment - Empirical Models\n",
    "\n",
    "## Instructions\n",
    "\n",
    "In this assessment, you are going to develop an emperical model by fitting a curve to data, and you will use your model to make predictions.\n",
    "\n",
    "Scores are determined by:\n",
    "\n",
    "- Successfully starting the C Level = 50 pts\n",
    "- Perfectly completing the C Level = 75 pts\n",
    "- Perfectly completing the B and C Levels = 85 pts\n",
    "- Perfectly completing the A, B, and C Levels = 100 pts\n",
    "\n",
    "You may use your Colab notebooks, our textbook, my notebook solutions, and any links to web sites I provide. (You may not use any other person or web site or book or resource, in general.) \n",
    "\n",
    "You may ask me for help **once**; however, you may ask for clarification as often as needed.\n",
    "\n",
    "Add additional cells for both code and markdown as needed. Write answers to questions in narrative form in markdown. You may print values you need in your code, and then use these values in a written response.\n",
    "\n",
    "All graphs should have correct titles and axis labels (with units).\n",
    "\n",
    "## Grade\n",
    "\n",
    "<font color=\"green\"></font>\n",
    "\n",
    "Level | Grade | Comment\n",
    "--- | --- | ---\n",
    "C (75 pts) | | \n",
    "B (10 pts) | | \n",
    "A (15 pts) | | \n",
    "Total | \n"
   ]
  },
  {
   "cell_type": "markdown",
   "metadata": {},
   "source": [
    "# Level C\n",
    "\n",
    "## Exercise 0\n",
    "\n",
    "1. Save a copy of this notebook to Google Drive. Have you already shared your Google Colabortory folder with \"hpuphysics@gmail.com\"? If not, then be sure to share your folder.\n",
    "\n",
    "2. Add a text cell above and type your name as a level one heading in markdown. (A level one heading starts with # on its own line.)\n",
    "\n",
    "3. Run the `import` statements below to add packages."
   ]
  },
  {
   "cell_type": "code",
   "execution_count": 1,
   "metadata": {},
   "outputs": [],
   "source": [
    "import numpy as np #used for arrays and numerical functions\n",
    "import pandas as pd #used for reading a data file\n",
    "import matplotlib.pyplot as plt #used for graphing\n",
    "from io import StringIO #used to convert string to a dataframe\n",
    "from scipy.optimize import curve_fit #used to find the fit parameters"
   ]
  },
  {
   "cell_type": "markdown",
   "metadata": {},
   "source": [
    "## Exercise 1"
   ]
  },
  {
   "cell_type": "markdown",
   "metadata": {},
   "source": [
    "Older people generally have high blood pressure compared to younger people. This [data set](https://raw.githubusercontent.com/atitus/math-modeling-2/main/unit-03/03-10-problem/blood-pressure-data.txt), shows the systolic blood pressure (in mm Hg) for people of various ages. Read the data and graph the systolic blood pressure as a function of age."
   ]
  },
  {
   "cell_type": "code",
   "execution_count": 3,
   "metadata": {},
   "outputs": [
    {
     "data": {
      "text/html": [
       "<div>\n",
       "<style scoped>\n",
       "    .dataframe tbody tr th:only-of-type {\n",
       "        vertical-align: middle;\n",
       "    }\n",
       "\n",
       "    .dataframe tbody tr th {\n",
       "        vertical-align: top;\n",
       "    }\n",
       "\n",
       "    .dataframe thead th {\n",
       "        text-align: right;\n",
       "    }\n",
       "</style>\n",
       "<table border=\"1\" class=\"dataframe\">\n",
       "  <thead>\n",
       "    <tr style=\"text-align: right;\">\n",
       "      <th></th>\n",
       "      <th>Age (yrs)</th>\n",
       "      <th>Systolic Blood Pressure (mm Hg)</th>\n",
       "    </tr>\n",
       "  </thead>\n",
       "  <tbody>\n",
       "    <tr>\n",
       "      <th>0</th>\n",
       "      <td>39</td>\n",
       "      <td>144</td>\n",
       "    </tr>\n",
       "    <tr>\n",
       "      <th>1</th>\n",
       "      <td>45</td>\n",
       "      <td>138</td>\n",
       "    </tr>\n",
       "    <tr>\n",
       "      <th>2</th>\n",
       "      <td>47</td>\n",
       "      <td>145</td>\n",
       "    </tr>\n",
       "    <tr>\n",
       "      <th>3</th>\n",
       "      <td>65</td>\n",
       "      <td>162</td>\n",
       "    </tr>\n",
       "    <tr>\n",
       "      <th>4</th>\n",
       "      <td>46</td>\n",
       "      <td>142</td>\n",
       "    </tr>\n",
       "  </tbody>\n",
       "</table>\n",
       "</div>"
      ],
      "text/plain": [
       "   Age (yrs)  Systolic Blood Pressure (mm Hg)\n",
       "0         39                              144\n",
       "1         45                              138\n",
       "2         47                              145\n",
       "3         65                              162\n",
       "4         46                              142"
      ]
     },
     "execution_count": 3,
     "metadata": {},
     "output_type": "execute_result"
    }
   ],
   "source": [
    "df = pd.read_csv(\"https://raw.githubusercontent.com/atitus/math-modeling-2/main/unit-03/03-10-problem/blood-pressure-data.txt\", sep=\"\\t\")\n",
    "df.head()"
   ]
  },
  {
   "cell_type": "code",
   "execution_count": 13,
   "metadata": {},
   "outputs": [
    {
     "data": {
      "image/png": "[encoded data removed]",
      "text/plain": [
       "<Figure size 432x288 with 1 Axes>"
      ]
     },
     "metadata": {
      "needs_background": "light"
     },
     "output_type": "display_data"
    }
   ],
   "source": [
    "xdata = df['Age (yrs)']\n",
    "ydata = df['Systolic Blood Pressure (mm Hg)']\n",
    "\n",
    "plt.figure()\n",
    "plt.title('Blood Pressure vs. Age')\n",
    "plt.xlabel('Age (yrs)')\n",
    "plt.ylabel('Systolic Blood Pressure (mm Hg)')\n",
    "plt.plot(xdata, ydata, 'bo')\n",
    "plt.grid()\n",
    "plt.show()"
   ]
  },
  {
   "cell_type": "markdown",
   "metadata": {},
   "source": [
    "## Exercise 2"
   ]
  },
  {
   "cell_type": "markdown",
   "metadata": {},
   "source": [
    "For the data in Exercise 1, do a linear curve fit and print the best-fit parameters for blood pressure as a function of age. Plot the best-fit curve and the data on the same graph."
   ]
  },
  {
   "cell_type": "code",
   "execution_count": 17,
   "metadata": {},
   "outputs": [
    {
     "data": {
      "image/png": "[encoded data removed]",
      "text/plain": [
       "<Figure size 432x288 with 1 Axes>"
      ]
     },
     "metadata": {
      "needs_background": "light"
     },
     "output_type": "display_data"
    },
    {
     "name": "stdout",
     "output_type": "stream",
     "text": [
      "best-fit parameters =  [ 0.94932254 97.07708427]\n"
     ]
    }
   ],
   "source": [
    "model = lambda x, m, b: m*x+b\n",
    "\n",
    "guess = [1,1]\n",
    "params, stats = curve_fit(model, xdata, ydata, p0 = guess)\n",
    "\n",
    "xmodel = np.linspace(0,90,100)\n",
    "ymodel = model(xmodel, *params)\n",
    "\n",
    "plt.figure()\n",
    "plt.title('Blood Pressure vs. Age')\n",
    "plt.xlabel('Age (yrs)')\n",
    "plt.ylabel('Systolic Blood Pressure (mm Hg)')\n",
    "plt.plot(xdata, ydata, 'bo')\n",
    "plt.plot(xmodel, ymodel, 'm-')\n",
    "plt.grid()\n",
    "plt.show()\n",
    "\n",
    "print(\"best-fit parameters = \", params)"
   ]
  },
  {
   "cell_type": "markdown",
   "metadata": {},
   "source": [
    "## Exercise 3"
   ]
  },
  {
   "cell_type": "markdown",
   "metadata": {},
   "source": [
    "Using your curve-fit, predict the blood pressure of a person at 90 years old, and predict the blood pressure of a newborn infant.\n",
    "\n",
    "The following graph shows the model from age 0 through age 90. A 90 year-old is predicted to have a blood pressure of 180 mm Hg. An infant is predicted to have a blood pressure of 97 mm Hg, which is they y-intercept of the model.\n",
    "\n",
    "The question can also be answered algebrically by printing `model(0,*params)` and `model(90,*params)`. This gives 97 mm Hg and 183 mm Hg, respectively.\n"
   ]
  },
  {
   "cell_type": "code",
   "execution_count": 18,
   "metadata": {},
   "outputs": [
    {
     "data": {
      "image/png": "[encoded data removed]",
      "text/plain": [
       "<Figure size 432x288 with 1 Axes>"
      ]
     },
     "metadata": {
      "needs_background": "light"
     },
     "output_type": "display_data"
    },
    {
     "name": "stdout",
     "output_type": "stream",
     "text": [
      "At age zero, the predicted blood pressure is  97.07708426598651 .\n",
      "At age 90, the predicted blood pressure is  182.5161126258252 .\n"
     ]
    }
   ],
   "source": [
    "xmodel = np.linspace(0,90,100)\n",
    "ymodel = model(xmodel, *params)\n",
    "\n",
    "plt.figure()\n",
    "plt.title('Blood Pressure vs. Age')\n",
    "plt.xlabel('Systolic Blood Pressure (mm Hg)')\n",
    "plt.ylabel('Age (yrs)')\n",
    "plt.plot(xdata, ydata, 'bo')\n",
    "plt.plot(xmodel, ymodel, 'm-')\n",
    "plt.grid()\n",
    "plt.show()\n",
    "\n",
    "\n",
    "print(\"At age zero, the predicted blood pressure is \", model(0,*params), \"mm Hg.\")\n",
    "\n",
    "print(\"At age 90, the predicted blood pressure is \", model(90,*params), \"mm Hg.\")"
   ]
  },
  {
   "cell_type": "markdown",
   "metadata": {},
   "source": [
    "## Exercise 4\n",
    "\n",
    "On average, by what percentage will a person's blood pressure increase between the age of 30 and the age of 50? You should use your model to answer the question, not individual data points.\n",
    "\n",
    "Note: **percent increase** is the change in a quantity divided by the initial value of the quantity, expressed as a percentage.\n",
    "\n",
    "Estimating from the graph gives an increase from approximately 125 mm Hg to 145 mm Hg, which is an increase of 20 mm Hg. If we calculate it algebraically, the increase is 19 mm Hg. The percentage increase is 15%."
   ]
  },
  {
   "cell_type": "code",
   "execution_count": 19,
   "metadata": {},
   "outputs": [
    {
     "name": "stdout",
     "output_type": "stream",
     "text": [
      "At age 30, the predicted blood pressure is  125.55676038593275 mm Hg.\n",
      "At age 50, the predicted blood pressure is  144.54321113256356 mm Hg.\n",
      "The increase in blood pressure is  18.98645074663081 mm Hg.\n",
      "The percentage increase in blood pressure is  15.121806813325547 mm Hg.\n"
     ]
    }
   ],
   "source": [
    "print(\"At age 30, the predicted blood pressure is \", model(30,*params), \"mm Hg.\")\n",
    "\n",
    "print(\"At age 50, the predicted blood pressure is \", model(50,*params), \"mm Hg.\")\n",
    "\n",
    "dP = model(50,*params) - model(30,*params)\n",
    "\n",
    "print(\"The increase in blood pressure is \", dP, \"mm Hg.\")\n",
    "\n",
    "dPperc = dP/model(30,*params) * 100\n",
    "\n",
    "print(\"The percentage increase in blood pressure is \", dPperc, \"mm Hg.\")"
   ]
  },
  {
   "cell_type": "markdown",
   "metadata": {},
   "source": [
    "## Exercise 5\n",
    "\n",
    "What is a limitation of this data set and why should we not make any general conclusions (or general health recommendations or predictions) based on this data set? There are many limitations. For the sake of time, describe only one limitation.\n",
    "\n",
    "This data shows a correlation, but probably not a causation, meaning that age does not cause higher blood pressure. Rather, high blood pressure is probably *caused* by other variables like poor nutrition, lack of exercise, etc. Therefore, adults should be advised about nutrition and exercise."
   ]
  },
  {
   "cell_type": "markdown",
   "metadata": {},
   "source": [
    "# Level B\n",
    "\n"
   ]
  },
  {
   "cell_type": "markdown",
   "metadata": {},
   "source": [
    "## Exercise 1\n",
    "\n",
    "Two HPU alumni, Chris Schorn and Shane Wiess, tested a t-shirt launcher designed and constructed by alumnus Noah Novembre. Chris and Shane measured the exit speed of a t-shirt as a function of the air pressure in the barrel. This [file](https://raw.githubusercontent.com/atitus/math-modeling-2/main/unit-03/03-10-problem/pressure-speed.txt) has their data.\n",
    "\n",
    "Read the data and plot the exit speed of the t-shirt (when exiting the barrel) as a function of the air pressure in the barrel."
   ]
  },
  {
   "cell_type": "code",
   "execution_count": 21,
   "metadata": {},
   "outputs": [
    {
     "data": {
      "text/html": [
       "<div>\n",
       "<style scoped>\n",
       "    .dataframe tbody tr th:only-of-type {\n",
       "        vertical-align: middle;\n",
       "    }\n",
       "\n",
       "    .dataframe tbody tr th {\n",
       "        vertical-align: top;\n",
       "    }\n",
       "\n",
       "    .dataframe thead th {\n",
       "        text-align: right;\n",
       "    }\n",
       "</style>\n",
       "<table border=\"1\" class=\"dataframe\">\n",
       "  <thead>\n",
       "    <tr style=\"text-align: right;\">\n",
       "      <th></th>\n",
       "      <th>P (psi)</th>\n",
       "      <th>v (m/s)</th>\n",
       "    </tr>\n",
       "  </thead>\n",
       "  <tbody>\n",
       "    <tr>\n",
       "      <th>0</th>\n",
       "      <td>20</td>\n",
       "      <td>1.36</td>\n",
       "    </tr>\n",
       "    <tr>\n",
       "      <th>1</th>\n",
       "      <td>25</td>\n",
       "      <td>2.24</td>\n",
       "    </tr>\n",
       "    <tr>\n",
       "      <th>2</th>\n",
       "      <td>30</td>\n",
       "      <td>3.52</td>\n",
       "    </tr>\n",
       "    <tr>\n",
       "      <th>3</th>\n",
       "      <td>35</td>\n",
       "      <td>4.33</td>\n",
       "    </tr>\n",
       "    <tr>\n",
       "      <th>4</th>\n",
       "      <td>40</td>\n",
       "      <td>5.22</td>\n",
       "    </tr>\n",
       "  </tbody>\n",
       "</table>\n",
       "</div>"
      ],
      "text/plain": [
       "   P (psi)  v (m/s)\n",
       "0       20     1.36\n",
       "1       25     2.24\n",
       "2       30     3.52\n",
       "3       35     4.33\n",
       "4       40     5.22"
      ]
     },
     "execution_count": 21,
     "metadata": {},
     "output_type": "execute_result"
    }
   ],
   "source": [
    "df = pd.read_csv(\"https://raw.githubusercontent.com/atitus/math-modeling-2/main/unit-03/03-10-problem/pressure-speed.txt\", sep=\"\\t\")\n",
    "df.head()"
   ]
  },
  {
   "cell_type": "code",
   "execution_count": 23,
   "metadata": {},
   "outputs": [
    {
     "data": {
      "image/png": "[encoded data removed]",
      "text/plain": [
       "<Figure size 432x288 with 1 Axes>"
      ]
     },
     "metadata": {
      "needs_background": "light"
     },
     "output_type": "display_data"
    }
   ],
   "source": [
    "xdata = df['P (psi)']\n",
    "ydata = df['v (m/s)']\n",
    "\n",
    "plt.figure()\n",
    "plt.title('Exit Speed vs. Air Pressure for a T-shirt Launcher')\n",
    "plt.xlabel('P (psi)')\n",
    "plt.ylabel('v (m/s)')\n",
    "plt.plot(xdata, ydata, 'bo')\n",
    "plt.grid()\n",
    "plt.show()"
   ]
  },
  {
   "cell_type": "markdown",
   "metadata": {},
   "source": [
    "## Exercise 2\n",
    "\n"
   ]
  },
  {
   "cell_type": "markdown",
   "metadata": {},
   "source": [
    "Fit a curve to the exit speed as a function of air pressure using a power law plus a constant, of the form:\n",
    "\n",
    "$$y = Ax^n + B$$\n",
    "\n",
    "where $y$ is the air pressure and $x$ is the exit speed. Print the values of the best-fit parameters, A and B, and plot the best-fit curve on the same graph as the data."
   ]
  },
  {
   "cell_type": "code",
   "execution_count": 26,
   "metadata": {},
   "outputs": [
    {
     "data": {
      "image/png": "[encoded data removed]",
      "text/plain": [
       "<Figure size 432x288 with 1 Axes>"
      ]
     },
     "metadata": {
      "needs_background": "light"
     },
     "output_type": "display_data"
    },
    {
     "name": "stdout",
     "output_type": "stream",
     "text": [
      "Fit parameters =  2.2440254769243393 -8.141095530564204 0.48108768832851745\n"
     ]
    }
   ],
   "source": [
    "model = lambda x, A, B, n: A*x**n + B\n",
    "\n",
    "guess = [1,1,1]\n",
    "params, stats = curve_fit(model, xdata, ydata, p0 = guess)\n",
    "\n",
    "xmodel = np.linspace(20,70,100)\n",
    "ymodel = model(xmodel, *params)\n",
    "\n",
    "plt.figure()\n",
    "plt.title('Exit Speed vs. Air Pressure for a T-shirt Launcher')\n",
    "plt.xlabel('P (psi)')\n",
    "plt.ylabel('v (m/s)')\n",
    "plt.plot(xdata, ydata, 'bo')\n",
    "plt.plot(xmodel, ymodel, 'g-')\n",
    "plt.grid()\n",
    "plt.show()\n",
    "\n",
    "print(\"Fit parameters = \", *params)"
   ]
  },
  {
   "cell_type": "markdown",
   "metadata": {},
   "source": [
    "## Exercise 3\n",
    "\n",
    "Acccording to your model, what is the exit speed when the pressure is zero? \n",
    "\n",
    "The exit speed is approximately -8 m/s. Also, the parameter B gives you the speed at zero pressure, which is -8.14 m/s.\n",
    "\n",
    "Is this physically possible?\n",
    "\n",
    "No. Speed can never be negative. But if this represents \"x-velocity\" along the direction of the barrel, then a negative x-velocity would indicate the t-shirt is traveling backwards. This is impossible as well."
   ]
  },
  {
   "cell_type": "code",
   "execution_count": 27,
   "metadata": {},
   "outputs": [
    {
     "data": {
      "image/png": "[encoded data removed]",
      "text/plain": [
       "<Figure size 432x288 with 1 Axes>"
      ]
     },
     "metadata": {
      "needs_background": "light"
     },
     "output_type": "display_data"
    }
   ],
   "source": [
    "xmodel = np.linspace(0,70,100)\n",
    "ymodel = model(xmodel, *params)\n",
    "\n",
    "plt.figure()\n",
    "plt.title('Exit Speed vs. Air Pressure for a T-shirt Launcher')\n",
    "plt.xlabel('P (psi)')\n",
    "plt.ylabel('v (m/s)')\n",
    "plt.plot(xdata, ydata, 'bo')\n",
    "plt.plot(xmodel, ymodel, 'g-')\n",
    "plt.grid()\n",
    "plt.show()"
   ]
  },
  {
   "cell_type": "markdown",
   "metadata": {},
   "source": [
    "## Exercise 4\n",
    "\n",
    "What is the minimum air pressure in the barrel in order for a t-shirt to exit the barrel (in other words, its exit speed is close to zero)?\n",
    "\n",
    "Because the t-shirt is wedged into the barrel, it will not move until a minimum air pressure is reached. (There is significant friction on the t-shirt). This minimum air pressure is approximately 14 or 15 psi."
   ]
  },
  {
   "cell_type": "markdown",
   "metadata": {},
   "source": [
    "## Exercise 5\n",
    "\n",
    "The barrel is composed of PVC that is rated for a maximum of 140 psi. At the maximum pressure for the barrel, what do you predict the exit speed of a t-shirt to be?\n",
    "\n",
    "If we determine this with our model and best-fit parameters, it is 16 m/s."
   ]
  },
  {
   "cell_type": "code",
   "execution_count": 29,
   "metadata": {},
   "outputs": [
    {
     "name": "stdout",
     "output_type": "stream",
     "text": [
      "v at P=140 is 16.04153601083538 m/s.\n"
     ]
    }
   ],
   "source": [
    "v = model(140, *params)\n",
    "print(\"v at P=140 is\", v, \"m/s.\")"
   ]
  },
  {
   "cell_type": "markdown",
   "metadata": {},
   "source": [
    "# Level A"
   ]
  },
  {
   "cell_type": "markdown",
   "metadata": {},
   "source": [
    "In Earth's atmosphere, a horizontal \"slice\" of air has to support the weight of the column of air above it. As a result, near Earth's surface the air pressure is greater than the air pressure at higher alitudes because near Earth, it has to support the weight of a much taller column. As a result, air pressure decreases with altitude.\n",
    "\n",
    "But air is also compressible. Thus, near Earth, supporting a tall column of air causes the \"slice\" of air to compress and become more dense. At higher altitudes the air pressure is less so the air compresses less and is less dense. This variation in air density also contributes to a decreasing air pressure. \n",
    "\n",
    "As a result of each of the factors in the previous two paragraphs, the air pressure decreases non-linearly.\n",
    "\n",
    "HPU alumnus Zach Hutchens (who is currently a PhD student in astrophysics at UNC) built a high-altitude balloon in which he counted muons in the Earth's atmosphere that result from cosmic rays interacting with the atmosphere. Along the way, he measured the air pressure as a function of the altitude of the balloon."
   ]
  },
  {
   "cell_type": "markdown",
   "metadata": {},
   "source": [
    "## Exercise 1"
   ]
  },
  {
   "cell_type": "markdown",
   "metadata": {},
   "source": [
    "Zach's data for air pressure and altitude is in the file [air-pressure-data.txt](https://raw.githubusercontent.com/atitus/math-modeling-2/main/unit-03/03-10-problem/air-pressure-data.txt). Read the data and plot the air pressure as a function of altitude."
   ]
  },
  {
   "cell_type": "code",
   "execution_count": 35,
   "metadata": {},
   "outputs": [
    {
     "data": {
      "image/png": "[encoded data removed]",
      "text/plain": [
       "<Figure size 432x288 with 1 Axes>"
      ]
     },
     "metadata": {
      "needs_background": "light"
     },
     "output_type": "display_data"
    }
   ],
   "source": [
    "df = pd.read_csv(\"https://raw.githubusercontent.com/atitus/math-modeling-2/main/unit-03/03-10-problem/air-pressure-data.txt\", sep=\"\\t\")\n",
    "df.head()\n",
    "\n",
    "xdata = df['Altitude (m)']\n",
    "ydata = df['Pressure (Pa)']\n",
    "\n",
    "plt.figure()\n",
    "plt.title('Air Pressure vs. Altitude')\n",
    "plt.xlabel('Altitude (m)')\n",
    "plt.ylabel('P (Pa)')\n",
    "plt.plot(xdata, ydata, 'bo')\n",
    "plt.grid()\n",
    "plt.show()"
   ]
  },
  {
   "cell_type": "markdown",
   "metadata": {},
   "source": [
    "## Exercise 2\n",
    "\n",
    "Fit the data for air pressure as a function of altitude with an exponential decay model:\n",
    "\n",
    "$$y = Ae^{-rx}$$\n",
    "\n",
    "where $A$ and $r$ are curve fit parameters. Plot the model and data on the same axes."
   ]
  },
  {
   "cell_type": "code",
   "execution_count": 36,
   "metadata": {},
   "outputs": [
    {
     "data": {
      "image/png": "[encoded data removed]",
      "text/plain": [
       "<Figure size 432x288 with 1 Axes>"
      ]
     },
     "metadata": {
      "needs_background": "light"
     },
     "output_type": "display_data"
    },
    {
     "name": "stdout",
     "output_type": "stream",
     "text": [
      "Fit parameters =  138947.97169325806 0.00016896471819214233\n"
     ]
    }
   ],
   "source": [
    "xdata = df['Altitude (m)']\n",
    "ydata = df['Pressure (Pa)']\n",
    "\n",
    "model = lambda x, A, r: A*np.exp(-r*x)\n",
    "\n",
    "guess = [100000,1/2e4]\n",
    "params, stats = curve_fit(model, xdata, ydata, p0 = guess)\n",
    "\n",
    "xmodel = np.linspace(100,25000,100)\n",
    "ymodel = model(xmodel, *params)\n",
    "\n",
    "plt.figure()\n",
    "plt.title('Air Pressure vs. Altitude')\n",
    "plt.xlabel('Altitude (m)')\n",
    "plt.ylabel('P (Pa)')\n",
    "plt.plot(xdata, ydata, 'bo')\n",
    "plt.plot(xmodel, ymodel, 'm-')\n",
    "plt.grid()\n",
    "plt.show()\n",
    "\n",
    "print(\"Fit parameters = \", *params)"
   ]
  },
  {
   "cell_type": "markdown",
   "metadata": {},
   "source": [
    "## Exercise 3\n",
    "\n",
    "How high did Zach's balloon travel in feet? (There are 3.28 feet in one meter.)\n",
    "\n",
    "The balloon travelled 85,000 ft. It was a bummer because we were hoping for 100,000 ft."
   ]
  },
  {
   "cell_type": "code",
   "execution_count": 38,
   "metadata": {},
   "outputs": [
    {
     "name": "stdout",
     "output_type": "stream",
     "text": [
      "Max altitude in m =  25914.43289\n",
      "Max altitude in ft =  84999.3398792\n"
     ]
    }
   ],
   "source": [
    "hmax = np.max(xdata)\n",
    "print(\"Max altitude in m = \", hmax)\n",
    "\n",
    "hmaxft = 3.28*hmax\n",
    "print(\"Max altitude in ft = \", hmaxft)\n"
   ]
  },
  {
   "cell_type": "markdown",
   "metadata": {},
   "source": [
    "## Exercise 4\n",
    "\n",
    "If Zach's balloon had travelled to 50,000 m, what does your model predict for the air pressure? \n",
    "\n",
    "If you want to graph data within a certain range, you can use:\n",
    "\n",
    "```\n",
    "plt.xlim(xmin,xmax)\n",
    "plt.ylim(ymin,ymax)\n",
    "```\n",
    "\n",
    "where `xmin`, `xmax`, `ymin`, and `ymax` are the minimum and maximum values on the x and y axes, respectively.\n",
    "\n",
    "You can use your graph or you can calculate it with your model. The predicted pressure is 30 Pa."
   ]
  },
  {
   "cell_type": "code",
   "execution_count": 41,
   "metadata": {},
   "outputs": [
    {
     "name": "stdout",
     "output_type": "stream",
     "text": [
      "At 50,000 m, the predicted P is  29.77350571450857 Pa.\n"
     ]
    }
   ],
   "source": [
    "P = model(5e4, *params)\n",
    "print(\"At 50,000 m, the predicted P is \", P, \"Pa.\")"
   ]
  },
  {
   "cell_type": "markdown",
   "metadata": {},
   "source": [
    "## Exercise 5\n",
    "\n",
    "A theoretical calculation for the air pressure at an altitude of 50,000 m is approximately 67 Pa. Compare your model's prediction to this value. Does your model predict too large of a pressure at this altitude or too small?\n",
    "\n",
    "Our model based on a curve fit to data predicted a smaller pressure than what is predicted by theory."
   ]
  },
  {
   "cell_type": "code",
   "execution_count": null,
   "metadata": {},
   "outputs": [],
   "source": []
  }
 ],
 "metadata": {
  "kernelspec": {
   "display_name": "Python 3",
   "language": "python",
   "name": "python3"
  },
  "language_info": {
   "codemirror_mode": {
    "name": "ipython",
    "version": 3
   },
   "file_extension": ".py",
   "mimetype": "text/x-python",
   "name": "python",
   "nbconvert_exporter": "python",
   "pygments_lexer": "ipython3",
   "version": "3.8.5"
  }
 },
 "nbformat": 4,
 "nbformat_minor": 4
}
