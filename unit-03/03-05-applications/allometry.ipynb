{
 "cells": [
  {
   "cell_type": "markdown",
   "metadata": {},
   "source": [
    "# Emperical Modeling Application - Allometry"
   ]
  },
  {
   "cell_type": "code",
   "execution_count": 1,
   "metadata": {},
   "outputs": [],
   "source": [
    "import numpy as np #used for arrays and numerical functions\n",
    "import pandas as pd #used for reading a data file\n",
    "import matplotlib.pyplot as plt #used for graphing\n",
    "from io import StringIO #used to convert string to a dataframe\n",
    "from scipy.optimize import curve_fit #used to find the fit parameters"
   ]
  },
  {
   "cell_type": "markdown",
   "metadata": {},
   "source": [
    "In biological systems, emperical models are sometimes discovered that mathematically relate one biological (often anatomical) measurement with another. **Allometry** is the general study of emperical relationships in biological systems. Typically there are no theoretical models to predict such a relationship. Therefore, allometric relationships are **emperical models**.\n",
    "\n",
    "This 2015 paper by Jean Gayon, [History of the Concept of Allometry](https://academic.oup.com/icb/article/40/5/748/157095), describes the history of the field of allometry and especially the work of pioneers Huxley and Teissier.\n",
    "\n",
    "In this excellent summary of the field of allometry, [Allometry: The Study of Biological Scaling](https://www.nature.com/scitable/knowledge/library/allometry-the-study-of-biological-scaling-13228439/), the author states:\n",
    "\n",
    "\"Allometry, in its broadest sense, describes how the characteristics of living creatures change with size. The term originally referred to the scaling relationship between the size of a body part and the size of the body as a whole, as both grow during development. However, more recently the meaning of the term allometry has been modified and expanded to refer to biological scaling relationships in general, be it for morphological traits (e.g., the relationship between brain size and body size among adult humans), physiological traits (e.g., the relationship between metabolic rate and body size among mammal species) or ecological traits (e.g., the relationship between wing size and flight performance in birds). Indeed, allometric relationships can be described for almost any co-varying biological measurements, resulting in broad usage of the term. However, a unifying theme is that allometry describes how traits or processes scale with one another. The study of allometry concerns the functional mechanisms that generate these scaling relationship, how they impact ecology, and how they respond to and influence evolution.\""
   ]
  },
  {
   "cell_type": "markdown",
   "metadata": {},
   "source": [
    "## Example - Fiddler Crab\n",
    "\n",
    "A [fiddler crab](https://scaquarium.org/our-animals/sand-fiddler-crab/) has one very large claw and one small claw. (The image is from [the SC Aquarium](https://scaquarium.org/our-animals/sand-fiddler-crab/).)\n",
    "\n",
    "![](https://raw.githubusercontent.com/atitus/math-modeling/master/unit-02/02-07-allometry/fiddler-crab.jpg)\n",
    "\n",
    "The file [fiddler-crab.txt](https://raw.githubusercontent.com/atitus/math-modeling/master/unit-02/02-07-allometry/fiddler-crab.txt) has data for the length of its claw in mm and diameter of the crab in mm. ([data source](https://www.futurelearn.com/courses/maths-power-laws/0/steps/12170)) I've pasted the data below so we can look at the graph. I use:\n",
    "\n",
    "```python\n",
    "plt.xlim(0,17)\n",
    "plt.ylim(0,22)\n",
    "```\n",
    "\n",
    "to adjust the limits on the x and y axes so we can see the origin."
   ]
  },
  {
   "cell_type": "code",
   "execution_count": 2,
   "metadata": {},
   "outputs": [
    {
     "data": {
      "image/png": "[encoded data removed]",
      "text/plain": [
       "<Figure size 864x576 with 1 Axes>"
      ]
     },
     "metadata": {
      "needs_background": "light"
     },
     "output_type": "display_data"
    }
   ],
   "source": [
    "#define data\n",
    "#The columns are: Crab Size (mm)\tClaw Size (mm)\n",
    "data = StringIO(\"\"\"x\ty\n",
    "3.70\t2.12\n",
    "4.47\t2.85\n",
    "5.08\t3.48\n",
    "6.07\t4.57\n",
    "7.03\t5.72\n",
    "7.80\t6.91\n",
    "8.38\t7.64\n",
    "9.35\t9.05\n",
    "10.24\t10.46\n",
    "11.13\t11.83\n",
    "11.81\t13.01\n",
    "12.41\t14.01\n",
    "13.71\t16.61\n",
    "14.13\t17.48\n",
    "15.31\t19.39\n",
    "16.05\t21.08\n",
    "\"\"\")\n",
    "\n",
    "# convert data to dataframe\n",
    "df = pd.read_csv(data, sep =\"\\t\")\n",
    "\n",
    "# define arrays for the data\n",
    "xdata = df['x']\n",
    "ydata = df['y']\n",
    "\n",
    "# create graph\n",
    "fig1 = plt.figure(figsize=(12,8))\n",
    "\n",
    "# plot data and model\n",
    "plt.plot(xdata,ydata,'.b') # data\n",
    "plt.grid()\n",
    "plt.title(\"Fiddler Crab Growth\")\n",
    "plt.ylabel(\"Claw length (mm)\")\n",
    "plt.xlabel(\"Crab diameter (mm)\")\n",
    "#plt.xlim(0,17)\n",
    "#plt.ylim(0,22)\n",
    "plt.show()"
   ]
  },
  {
   "cell_type": "markdown",
   "metadata": {},
   "source": [
    "### Exercise\n",
    "\n",
    "The relationship is not linear. Which grows faster, the claw length or the crab's body?"
   ]
  },
  {
   "cell_type": "markdown",
   "metadata": {},
   "source": [
    "### Exercise\n",
    "\n",
    "**Find an emperical model that describes the length of the crab's claw as a function of the crab's diameter.** Note that the model must go through the point $(0,0)$ because when a crab is young, its diameter is nearly zero and its claw length is nearly zero. Then, as it grows, its diameter and its claw length increase.\n",
    "\n",
    "Therefore, try a power function:\n",
    "\n",
    "$$y = a x^n$$"
   ]
  },
  {
   "cell_type": "code",
   "execution_count": null,
   "metadata": {},
   "outputs": [],
   "source": []
  },
  {
   "cell_type": "markdown",
   "metadata": {},
   "source": [
    "## Log-Log Plot\n",
    "\n",
    "For a power law (i.e. power model), it is common to plot $log(y)$ vs. $log(x)$. This type of graph is called a *log-log plot*.\n",
    "\n",
    "Begin with the power function:\n",
    "\n",
    "$$y=ax^n$$\n",
    "\n",
    "Take the log of both sides. (You can use log base 10 or log base e. It doesn't matter.)\n",
    "\n",
    "$$\\log(y) = \\log(ax^n)$$\n",
    "\n",
    "Use log identities to write this:\n",
    "\n",
    "$$\\log(y) = \\log(a) + n\\log(x)$$\n",
    "\n",
    "For clarity, let's write this as:\n",
    "\n",
    "$$Y = A + nX$$\n",
    "\n",
    "where $Y=\\log(y)$ and $X=\\log(x)$ and $A = \\log(a)$. The fit parameters are $A$ and $n$. This is the equation of a straight line. The intercept is $A$ (which is $\\log(a)$) and the slope is $n$.\n",
    "\n",
    "Let's find the best-fit parameters $A$ and $n$ by fitting a linear function to $\\log(y)$ vs $\\log(x)$. When we do this, the parameter $a$ can thus be found using\n",
    "\n",
    "$$a=e^{A}$$\n",
    "\n",
    "To summarize, we have to:\n",
    "\n",
    "1. graph $\\log(y)$ vs. $\\log(x)$.\n",
    "2. do a linear fit to $\\log(y)$ vs. $\\log(x)$.\n",
    "3. find $n$ using the slope.\n",
    "4. find $a$ using $a=10^{A}$ where $A$ is the y-intercept from the linear fit.\n",
    "\n",
    "\n",
    "### Creating a log-log plot\n",
    "\n",
    "In the program below we use:\n",
    "\n",
    "```python\n",
    "xdata = np.log(df['x'])\n",
    "ydata = np.log(df['y'])\n",
    "```\n",
    "\n",
    "to take the natural log (log base e) of the claw length and body diameter of the crab."
   ]
  },
  {
   "cell_type": "code",
   "execution_count": 7,
   "metadata": {},
   "outputs": [
    {
     "data": {
      "image/png": "[encoded data removed]",
      "text/plain": [
       "<Figure size 864x576 with 1 Axes>"
      ]
     },
     "metadata": {
      "needs_background": "light"
     },
     "output_type": "display_data"
    }
   ],
   "source": [
    "#define data\n",
    "#The columns are: Crab Size (mm)\tClaw Size (mm)\n",
    "data = StringIO(\"\"\"x\ty\n",
    "3.70\t2.12\n",
    "4.47\t2.85\n",
    "5.08\t3.48\n",
    "6.07\t4.57\n",
    "7.03\t5.72\n",
    "7.80\t6.91\n",
    "8.38\t7.64\n",
    "9.35\t9.05\n",
    "10.24\t10.46\n",
    "11.13\t11.83\n",
    "11.81\t13.01\n",
    "12.41\t14.01\n",
    "13.71\t16.61\n",
    "14.13\t17.48\n",
    "15.31\t19.39\n",
    "16.05\t21.08\n",
    "\"\"\")\n",
    "\n",
    "# convert data to dataframe\n",
    "df = pd.read_csv(data, sep =\"\\t\")\n",
    "\n",
    "# define arrays for the data\n",
    "xdata = np.log(df['x'])\n",
    "ydata = np.log(df['y'])\n",
    "\n",
    "# create graph\n",
    "fig1 = plt.figure(figsize=(12,8))\n",
    "\n",
    "# plot data and model\n",
    "plt.plot(xdata,ydata,'.b') # data\n",
    "plt.grid()\n",
    "plt.title(\"Fiddler Crab Growth\")\n",
    "plt.ylabel(\"log(Claw length (mm))\")\n",
    "plt.xlabel(\"log(Crab diameter (mm))\")\n",
    "plt.show()"
   ]
  },
  {
   "cell_type": "markdown",
   "metadata": {},
   "source": [
    "### Doing a linear fit\n",
    "\n",
    "We will do a linear fit to the function:\n",
    "    \n",
    "$$Y = A + nX$$\n",
    "\n",
    "where $X$ is `xdata` and is the log of the Crab diameter and $Y$ is `ydata` and is the log of the claw length. The slope is $n$."
   ]
  },
  {
   "cell_type": "code",
   "execution_count": 12,
   "metadata": {},
   "outputs": [
    {
     "data": {
      "image/png": "[encoded data removed]",
      "text/plain": [
       "<Figure size 864x576 with 1 Axes>"
      ]
     },
     "metadata": {
      "needs_background": "light"
     },
     "output_type": "display_data"
    }
   ],
   "source": [
    "#define data\n",
    "#The columns are: Crab Size (mm)\tClaw Size (mm)\n",
    "data = StringIO(\"\"\"x\ty\n",
    "3.70\t2.12\n",
    "4.47\t2.85\n",
    "5.08\t3.48\n",
    "6.07\t4.57\n",
    "7.03\t5.72\n",
    "7.80\t6.91\n",
    "8.38\t7.64\n",
    "9.35\t9.05\n",
    "10.24\t10.46\n",
    "11.13\t11.83\n",
    "11.81\t13.01\n",
    "12.41\t14.01\n",
    "13.71\t16.61\n",
    "14.13\t17.48\n",
    "15.31\t19.39\n",
    "16.05\t21.08\n",
    "\"\"\")\n",
    "\n",
    "# convert data to dataframe\n",
    "df = pd.read_csv(data, sep =\"\\t\")\n",
    "\n",
    "# define arrays for the data\n",
    "xdata = np.log(df['x'])\n",
    "ydata = np.log(df['y'])\n",
    "\n",
    "# define the model function; this function returns y(x) for a given x and fit parameters\n",
    "model = lambda x,A,n: A+n*x\n",
    "\n",
    "# Find best fit parameters\n",
    "guess=[1,1] # this is the initial guess for the fit parameters\n",
    "params, covariance = curve_fit(model, xdata, ydata, p0=guess)\n",
    "\n",
    "# calculate points for the model\n",
    "xmodel = np.linspace(1.25,2.8,100)\n",
    "ymodel = model(xmodel,*params)\n",
    "\n",
    "# create graph\n",
    "fig1 = plt.figure(figsize=(12,8))\n",
    "\n",
    "# plot data and model\n",
    "plt.plot(xdata,ydata,'.b') # data\n",
    "plt.plot(xmodel,ymodel,'-r') # data\n",
    "plt.grid()\n",
    "plt.title(\"Fiddler Crab Growth\")\n",
    "plt.ylabel(\"log(Claw length (mm))\")\n",
    "plt.xlabel(\"log(Crab diameter (mm))\")\n",
    "plt.show()"
   ]
  },
  {
   "cell_type": "markdown",
   "metadata": {},
   "source": [
    "### Exercise\n",
    "\n",
    "1. Print the fit parameters for the linear fit of the log-log plot.\n",
    "2. What is $n$?\n",
    "3. What is $A$ (which is the $\\log(a)$.?\n",
    "4. What is the parameter $a$ in the power law $y=ax^n$?\n",
    "5. Compare the values of $n$ and $a$ to what you found in the first part of this notebook by fitting a function directly to the power law.\n",
    "5. Which grows faster, the claw or the crab's body? \n",
    "6. If all I gave you was the value of $n$ and did not show you the curve, how can you know which body part grows faster?"
   ]
  },
  {
   "cell_type": "markdown",
   "metadata": {},
   "source": [
    "### Exercise\n",
    "\n",
    "Suppose you are walking on the beach and find a claw that was tragically separated from the crab. (Don't worry, they can [evidently grow another one on the other side after their next molt](https://en.wikipedia.org/wiki/Fiddler_crab).) The length of the claw is 4 mm. What was the width of the crab that lost the claw?"
   ]
  },
  {
   "cell_type": "code",
   "execution_count": null,
   "metadata": {},
   "outputs": [],
   "source": []
  },
  {
   "cell_type": "markdown",
   "metadata": {},
   "source": [
    "## Exercise - Trout\n",
    "\n",
    "How does the mass of a trout scale with its length? Investigate it with data in the file [trout-length-width.txt](https://raw.githubusercontent.com/atitus/math-modeling/master/unit-02/02-07-allometry/trout-length-width.txt). ([data source](https://seattlecentral.edu/qelp/sets/023/023.html)) Determine an emperical model for the mass of a trout in grams as a function of its length in mm. Which grows at a faster rate, a trout's mass or its length?"
   ]
  },
  {
   "cell_type": "code",
   "execution_count": null,
   "metadata": {},
   "outputs": [],
   "source": []
  }
 ],
 "metadata": {
  "celltoolbar": "Create Assignment",
  "kernelspec": {
   "display_name": "Python 3",
   "language": "python",
   "name": "python3"
  },
  "language_info": {
   "codemirror_mode": {
    "name": "ipython",
    "version": 3
   },
   "file_extension": ".py",
   "mimetype": "text/x-python",
   "name": "python",
   "nbconvert_exporter": "python",
   "pygments_lexer": "ipython3",
   "version": "3.8.5"
  }
 },
 "nbformat": 4,
 "nbformat_minor": 4
}
