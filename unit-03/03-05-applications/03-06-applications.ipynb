{
 "cells": [
  {
   "cell_type": "markdown",
   "metadata": {},
   "source": [
    "# Applications of Empirical Modeling\n",
    "\n",
    "In our last notebook, we learned how to:\n",
    "\n",
    "1. do an automatic curve fit of *any mathematical function* to data and find the best-fit curve parameters.\n",
    "2. use the model to answer questions and make predictions.\n",
    "3. be wary of making predictions since the model may not fit data outside the range used for the model. (For example, a model based on \"past\" data may not fit \"future\" data.)\n",
    "\n",
    "In this notebook, we will:\n",
    "\n",
    "1. practice this technique to various data sets.\n",
    "2. apply a curve fit to a smaller range of data.\n",
    "3. modify a model."
   ]
  },
  {
   "cell_type": "markdown",
   "metadata": {},
   "source": [
    "# Part 1: Practice"
   ]
  },
  {
   "cell_type": "markdown",
   "metadata": {},
   "source": [
    "## Vostok Ice Core\n",
    "\n",
    "This exercise comes from [The Physics Hypertextbook](https://physics.info/linear-regression/practice.shtml). Data is from the [Vostok - Isotope and Gas Data and Temperature Reconstruction](https://www.ncdc.noaa.gov/paleo-search/study/2453) by Petit, et. al. (1999).\n",
    "\n",
    "    Petit, J.R., J. Jouzel, D. Raynaud, N.I. Barkov, J.M. Barnola, I. Basile, M. Bender, J. Chappellaz, J. Davis, G. Delaygue, M. Delmotte, V.M. Kotlyakov, M. Legrand, V. Lipenkov, C. Lorius, L. Pépin, C. Ritz, E. Saltzman, and M. Stievenard. 1999. Climate and atmospheric history of the past 420,000 years from the Vostok Ice Core, Antarctica. Nature 399:429-436.\n",
    "    \n",
    "From a deep ice core sampled in Antarctica, surface temperature, carbon dioxide, and dust could be measured as a function of time in the past. While other measurements were made as well (see the above reference), we will look at temperature and carbon dioxide. This [data set](https://raw.githubusercontent.com/atitus/STLinSTL/main/workshop2/04-applications/vostok.txt) includes the columns:\n",
    "\n",
    "1. Age of air in years before present.\n",
    "2. Temperature anomaly (difference in temperature from the present) in degrees celsius.\n",
    "3. Carbon dioxide concentration in parts per million.\n",
    "\n",
    "Here is a graph of temperature anomaly vs. carbon dioxide concentration."
   ]
  }
 ],
 "metadata": {
  "kernelspec": {
   "display_name": "Python 3",
   "language": "python",
   "name": "python3"
  },
  "language_info": {
   "codemirror_mode": {
    "name": "ipython",
    "version": 3
   },
   "file_extension": ".py",
   "mimetype": "text/x-python",
   "name": "python",
   "nbconvert_exporter": "python",
   "pygments_lexer": "ipython3",
   "version": "3.8.5"
  }
 },
 "nbformat": 4,
 "nbformat_minor": 4
}
