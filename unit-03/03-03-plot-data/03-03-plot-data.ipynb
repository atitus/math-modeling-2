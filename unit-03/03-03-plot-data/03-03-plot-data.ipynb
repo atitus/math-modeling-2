{
 "cells": [
  {
   "cell_type": "code",
   "execution_count": 1,
   "metadata": {},
   "outputs": [],
   "source": [
    "import numpy as np #used for arrays and numerical functions\n",
    "import pandas as pd #used for reading a data file\n",
    "import matplotlib.pyplot as plt #used for graphing\n",
    "from io import StringIO #used to convert string to a dataframe"
   ]
  },
  {
   "cell_type": "markdown",
   "metadata": {},
   "source": [
    "# Plot Data"
   ]
  },
  {
   "cell_type": "markdown",
   "metadata": {},
   "source": [
    "In this notebook, you will learn how to read and graph data that is stored in a tab-delimited format in a text file.\n",
    "\n",
    "In this first example, we'll plot a data set for absorption of light for bacteria growing in a liquid medium. Various samples might look like this:\n",
    "\n",
    "<img src=\"https://github.com/atitus/STLinATL/raw/master/workshop2/03-plot-data/bacteria.png\" width=\"500\" align=\"center\">\n",
    "\n",
    "<font size=-1>Image credit: <a href=\"https://www.jove.com/video/56197/precise-high-throughput-analysis-of-bacterial-growth\" target=\"_new\">Precise, High-throughput Analysis of Bacterial Growth</a> by Masaomi Kurokawal and Bei-Wen Ying.</font>\n",
    "\n",
    "But there are many libraries of free data sets, like [this compilation at NCSU](https://www.lib.ncsu.edu/teaching-and-learning-datasets), to choose from."
   ]
  },
  {
   "cell_type": "markdown",
   "metadata": {},
   "source": [
    "## Read data from a file"
   ]
  },
  {
   "cell_type": "markdown",
   "metadata": {},
   "source": [
    "Read a text file that has data in tab-delimited columns. The first row should be the names of the columns. The data is stored in an object called a **dataframe**. If the file is in a subfolder, then you have to include the name of the subfolder in the path to the file.\n",
    "\n",
    "You can see what the original data file looks like:\n",
    "\n",
    "https://github.com/atitus/math-modeling/raw/master/unit-02/02-03-plot-data/bacterial-population-data.txt\n",
    "\n"
   ]
  },
  {
   "cell_type": "code",
   "execution_count": 2,
   "metadata": {},
   "outputs": [
    {
     "name": "stdout",
     "output_type": "stream",
     "text": [
      "   time (min)  absorbance (arb)\n",
      "0           0             0.022\n",
      "1          16             0.036\n",
      "2          32             0.060\n",
      "3          48             0.101\n",
      "4          64             0.169\n"
     ]
    }
   ],
   "source": [
    "# Read the data file. The result is a dataframe object, which is named df in this case.\n",
    "df = pd.read_csv('https://raw.githubusercontent.com/atitus/math-modeling-2/main/unit-03/03-03-plot-data/bacterial-population-data.txt', sep='\\t')\n",
    "\n",
    "#print first five rows of data with the header\n",
    "print(df.head())"
   ]
  },
  {
   "cell_type": "markdown",
   "metadata": {},
   "source": [
    "To plot the data, let's assign a variable name to each column of data we want to plot. We have to use the column headings to get the data from each column."
   ]
  },
  {
   "cell_type": "code",
   "execution_count": 3,
   "metadata": {},
   "outputs": [
    {
     "data": {
      "image/png": "[encoded data removed]",
      "text/plain": [
       "<Figure size 576x432 with 1 Axes>"
      ]
     },
     "metadata": {
      "needs_background": "light"
     },
     "output_type": "display_data"
    }
   ],
   "source": [
    "# give variable names to the columns of data\n",
    "xdata = df['time (min)']\n",
    "ydata = df['absorbance (arb)']\n",
    "\n",
    "# plot data\n",
    "fig = plt.figure(figsize=(8,6))\n",
    "plt.title('Absorbance (arb) vs. time (min)')\n",
    "plt.xlabel('time (min)')\n",
    "plt.ylabel('absorbance (arb)')\n",
    "plt.grid(which='both', axis='both')\n",
    "plt.plot(xdata,ydata,'bo') # syntax is (horizontal data , vertical data)\n",
    "plt.show()"
   ]
  },
  {
   "cell_type": "markdown",
   "metadata": {},
   "source": [
    "### Example -- U.S. Population"
   ]
  },
  {
   "cell_type": "markdown",
   "metadata": {},
   "source": [
    "In this example, we will read the data file `us-population-by-decade.txt` and graph the population vs. year. Our graph should have an appropriate title and axis labels. ([data source](https://data.worldbank.org/indicator/SP.POP.TOTL))"
   ]
  },
  {
   "cell_type": "code",
   "execution_count": 7,
   "metadata": {},
   "outputs": [
    {
     "name": "stdout",
     "output_type": "stream",
     "text": [
      "   Year  Population (x 10^6)\n",
      "0  1900                   76\n",
      "1  1910                   92\n",
      "2  1920                  106\n",
      "3  1930                  123\n",
      "4  1940                  131\n"
     ]
    },
    {
     "data": {
      "image/png": "[encoded data removed]",
      "text/plain": [
       "<Figure size 576x432 with 1 Axes>"
      ]
     },
     "metadata": {
      "needs_background": "light"
     },
     "output_type": "display_data"
    }
   ],
   "source": [
    "# Read the data file. The result is a dataframe object, which is named df in this case.\n",
    "df = pd.read_csv('https://raw.githubusercontent.com/atitus/math-modeling-2/main/unit-03/03-03-plot-data/us-population-by-decade.txt', sep='\\t')\n",
    "print(df.head())\n",
    "\n",
    "#assign variable names to columns\n",
    "xdata = df['Year']\n",
    "ydata = df['Population (x 10^6)']\n",
    "\n",
    "#plot graph\n",
    "fig = plt.figure(figsize=(8,6))\n",
    "plt.title('Population (in millions of people) vs. Year')\n",
    "plt.xlabel('Year')\n",
    "plt.ylabel('Population ($\\\\times 10^6$)')\n",
    "plt.grid(which='both', axis='both')\n",
    "plt.plot(xdata,ydata,'rD-')\n",
    "plt.show()"
   ]
  },
  {
   "cell_type": "markdown",
   "metadata": {},
   "source": [
    "### Exercise"
   ]
  },
  {
   "cell_type": "markdown",
   "metadata": {},
   "source": [
    "Read the file `tree-height-diameter.txt` and graph the height of the tree as a function of its diameter. Properly title the graph and label the axes, with units. ([data source](http://www.ben.edu/faculty/tcomar/BioCalcLabs.htm))"
   ]
  },
  {
   "cell_type": "code",
   "execution_count": 8,
   "metadata": {
    "nbgrader": {
     "grade": true,
     "grade_id": "Ex_2_ans",
     "locked": false,
     "points": 1,
     "schema_version": 3,
     "solution": true,
     "task": false
    }
   },
   "outputs": [
    {
     "name": "stdout",
     "output_type": "stream",
     "text": [
      "   Diameter (in)  Height (ft)\n",
      "0        3.18310        19.08\n",
      "1       35.01409        77.58\n",
      "2       14.32395        40.55\n",
      "3       20.05352        49.30\n",
      "4        9.84771        26.90\n"
     ]
    }
   ],
   "source": [
    "df = pd.read_csv('https://raw.githubusercontent.com/atitus/math-modeling-2/main/unit-03/03-03-plot-data/tree-height-diameter.txt', sep='\\t')\n",
    "print(df.head())\n",
    "\n",
    "## Add code for plotting data here"
   ]
  },
  {
   "cell_type": "markdown",
   "metadata": {},
   "source": [
    "### Exercise"
   ]
  },
  {
   "cell_type": "markdown",
   "metadata": {},
   "source": [
    "Read the file `pole-vaulter.txt` that contains data for HPU alumnus and pole vaulter, Keith Gates, and graph his y-position as a function of x-position. Properly title the graph and label the axes, with units."
   ]
  },
  {
   "cell_type": "code",
   "execution_count": 9,
   "metadata": {
    "nbgrader": {
     "grade": true,
     "grade_id": "Ex_3_ans",
     "locked": false,
     "points": 1,
     "schema_version": 3,
     "solution": true,
     "task": false
    }
   },
   "outputs": [
    {
     "name": "stdout",
     "output_type": "stream",
     "text": [
      "   t (s)  x (m)  y (m)\n",
      "0  0.000 -0.008  0.004\n",
      "1  0.067  0.547 -0.027\n",
      "2  0.133  1.070  0.004\n",
      "3  0.200  1.594 -0.058\n",
      "4  0.267  2.118 -0.027\n"
     ]
    }
   ],
   "source": [
    "df = pd.read_csv('https://raw.githubusercontent.com/atitus/math-modeling-2/main/unit-03/03-03-plot-data/pole-vaulter.txt', sep='\\t')\n",
    "print(df.head())\n",
    "\n",
    "## Add code for plotting data here"
   ]
  },
  {
   "cell_type": "markdown",
   "metadata": {},
   "source": [
    "### Exercise\n",
    "\n",
    "Read the file `brain-weight-body-weight.txt` that contains data for brain mass and body mass of various mammals. Properly title the graph and label the axes, with units."
   ]
  },
  {
   "cell_type": "code",
   "execution_count": 10,
   "metadata": {},
   "outputs": [
    {
     "name": "stdout",
     "output_type": "stream",
     "text": [
      "            Mammal  Body Mass (kg)  Brain Mass (g)\n",
      "0       Arctic fox           3.385            44.5\n",
      "1       Owl monkey           0.480            15.5\n",
      "2  Mountain beaver           1.350             8.1\n",
      "3              Cow         465.000           423.0\n",
      "4        Grey wolf          36.330           119.5\n"
     ]
    }
   ],
   "source": [
    "df = pd.read_csv('https://raw.githubusercontent.com/atitus/math-modeling-2/main/unit-03/03-03-plot-data/brain-weight-body-weight.txt', sep='\\t')\n",
    "print(df.head())\n",
    "\n",
    "## Add code for plotting data here"
   ]
  },
  {
   "cell_type": "markdown",
   "metadata": {},
   "source": [
    "## Copy and paste data from a spreadsheet\n",
    "\n",
    "Sometimes you have data in Excel or on a web page instead of a public file on the internet. In this case, you can copy and paste the data. Here is a template to start from.\n",
    "\n",
    "I am assuming the data is tab-delimited. But we can also handle comma-delimited or space-delimited data as well. In this case, we would have to change the `sep` value in our `pd.read_csv()` function."
   ]
  },
  {
   "cell_type": "code",
   "execution_count": 11,
   "metadata": {},
   "outputs": [
    {
     "data": {
      "image/png": "[encoded data removed]",
      "text/plain": [
       "<Figure size 576x432 with 1 Axes>"
      ]
     },
     "metadata": {
      "needs_background": "light"
     },
     "output_type": "display_data"
    }
   ],
   "source": [
    "\n",
    "#\n",
    "# Paste the data you wish to graph in tab-delimited rows in the format:\n",
    "#\n",
    "#       xdata <tab> ydata\n",
    "#\n",
    "#\n",
    "\n",
    "# define data\n",
    "data = StringIO(\"\"\"x\ty\n",
    "0\t0\n",
    "1\t4.9\n",
    "2\t19.6\n",
    "3\t49.1\n",
    "4\t78.4\n",
    "5\t122.5\n",
    "\"\"\") \n",
    "\n",
    "# convert data to dataframe\n",
    "df = pd.read_csv(data, sep =\"\\t\")\n",
    "\n",
    "# define arrays for the data\n",
    "xdata = df['x']\n",
    "ydata = df['y']\n",
    "\n",
    "# plot data and the best-fit function on the same graph\n",
    "fig = plt.figure(figsize=(8,6))\n",
    "plt.title(\"y vs. x\")\n",
    "plt.xlabel('x')\n",
    "plt.ylabel('y')\n",
    "plt.grid(which='both', axis='both')\n",
    "plt.plot(xdata, ydata, 'bo')\n",
    "plt.show()"
   ]
  },
  {
   "cell_type": "markdown",
   "metadata": {},
   "source": [
    "### Example\n",
    "\n",
    "I have copied the template above into the cell below so you can just replace the columns of data.\n",
    "\n",
    "Here is a Google sheet with data. In the first tab, there is data for the growth of yeast cells under different environmental conditions (light).\n",
    "\n",
    "https://docs.google.com/spreadsheets/d/1jgtMc3TsjziSFCdsdILzIvPbg1H2BESKNkQh-VTcMtw/edit?usp=sharing\n",
    "\n",
    "Go to the sheet above and do the following:\n",
    "\n",
    "1. select the first two columns of data for time and yeast population (do not include the column headings)\n",
    "2. copy the data (cmd-c or ctrl-c)\n",
    "3. select the data in the cell below and delete it\n",
    "4. paste the data from the Google sheet (cmd-v or ctrl-v)\n",
    "\n",
    "After plotting the data, change the labels and title of the graph."
   ]
  },
  {
   "cell_type": "code",
   "execution_count": 12,
   "metadata": {},
   "outputs": [
    {
     "data": {
      "image/png": "[encoded data removed]",
      "text/plain": [
       "<Figure size 576x432 with 1 Axes>"
      ]
     },
     "metadata": {
      "needs_background": "light"
     },
     "output_type": "display_data"
    }
   ],
   "source": [
    "\n",
    "#\n",
    "# Paste the data you wish to graph in tab-delimited rows in the format:\n",
    "#\n",
    "#       xdata <tab> ydata\n",
    "#\n",
    "#\n",
    "\n",
    "# define data\n",
    "data = StringIO(\"\"\"x\ty\n",
    "0\t0\n",
    "1\t4.9\n",
    "2\t19.6\n",
    "3\t49.1\n",
    "4\t78.4\n",
    "5\t122.5\n",
    "\"\"\") \n",
    "\n",
    "# convert data to dataframe\n",
    "df = pd.read_csv(data, sep =\"\\t\")\n",
    "\n",
    "# define arrays for the data\n",
    "xdata = df['x']\n",
    "ydata = df['y']\n",
    "\n",
    "# plot data and the best-fit function on the same graph\n",
    "fig = plt.figure(figsize=(8,6))\n",
    "plt.title(\"y vs. x\")\n",
    "plt.xlabel('x')\n",
    "plt.ylabel('y')\n",
    "plt.grid(which='both', axis='both')\n",
    "plt.plot(xdata, ydata, 'bo')\n",
    "plt.show()"
   ]
  },
  {
   "cell_type": "markdown",
   "metadata": {},
   "source": [
    "### Exercise\n",
    "\n",
    "In the sheet at:\n",
    "\n",
    "https://docs.google.com/spreadsheets/d/1jgtMc3TsjziSFCdsdILzIvPbg1H2BESKNkQh-VTcMtw/edit?usp=sharing\n",
    "\n",
    "there are multiple tabs with data. Plot the data for systolic blood pressure vs. age. You should properly label the axes and title the graph."
   ]
  },
  {
   "cell_type": "code",
   "execution_count": null,
   "metadata": {},
   "outputs": [],
   "source": []
  },
  {
   "cell_type": "markdown",
   "metadata": {},
   "source": [
    "### Exercise\n",
    "\n",
    "In the sheet at:\n",
    "\n",
    "https://docs.google.com/spreadsheets/d/1jgtMc3TsjziSFCdsdILzIvPbg1H2BESKNkQh-VTcMtw/edit?usp=sharing\n",
    "\n",
    "there are multiple tabs with data. Plot the *maximum* drug dosage as a function of weight. You should properly label the axes and title the graph."
   ]
  },
  {
   "cell_type": "code",
   "execution_count": null,
   "metadata": {},
   "outputs": [],
   "source": []
  },
  {
   "cell_type": "markdown",
   "metadata": {},
   "source": [
    "## Homework\n",
    "\n",
    "Find data online and plot it with an appropriate title and axis labels. Use a markdown cell to describe the data and provide the source for the data."
   ]
  },
  {
   "cell_type": "code",
   "execution_count": null,
   "metadata": {},
   "outputs": [],
   "source": []
  }
 ],
 "metadata": {
  "celltoolbar": "Create Assignment",
  "kernelspec": {
   "display_name": "Python 3",
   "language": "python",
   "name": "python3"
  },
  "language_info": {
   "codemirror_mode": {
    "name": "ipython",
    "version": 3
   },
   "file_extension": ".py",
   "mimetype": "text/x-python",
   "name": "python",
   "nbconvert_exporter": "python",
   "pygments_lexer": "ipython3",
   "version": "3.8.5"
  }
 },
 "nbformat": 4,
 "nbformat_minor": 4
}
