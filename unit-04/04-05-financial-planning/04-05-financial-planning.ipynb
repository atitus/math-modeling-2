{
 "cells": [
  {
   "cell_type": "markdown",
   "metadata": {},
   "source": [
    "# Financial Planning\n"
   ]
  },
  {
   "cell_type": "markdown",
   "metadata": {},
   "source": [
    "This is an open-ended question that requires you to make assumptions, and making assumptions is an integral part of *modeling*.\n",
    "\n",
    "You are evaluating your retirement. At 25 years old, you invest monthly into an IRA (Individual Retirement Account) with an average 7% interest rate per year. After your retirement age, you want to live solely on that investment. What is the minimum age you can retire if you die with exactly zero dollars left in your investment?\n",
    "\n",
    "1. Talk to your classmates and write a list of assumptions you will make. At first, it's best to keep your assumptions simple, yet realistic.\n",
    "\n",
    "2. Describe in words (an outline form is fine) what calculations your code must do. This is called *pseudocode*. You are describing the logic but not writing code.\n",
    "\n",
    "After discussion, we will write code to solve the problem as a group. We have to keep it simple and check that it works along the way. We will define variables as needed and use variables in all calculations. This allows us to explore predictions of the model by adjusting the values of the variables."
   ]
  },
  {
   "cell_type": "code",
   "execution_count": null,
   "metadata": {},
   "outputs": [],
   "source": []
  }
 ],
 "metadata": {
  "celltoolbar": "Create Assignment",
  "kernelspec": {
   "display_name": "Python 3",
   "language": "python",
   "name": "python3"
  },
  "language_info": {
   "codemirror_mode": {
    "name": "ipython",
    "version": 3
   },
   "file_extension": ".py",
   "mimetype": "text/x-python",
   "name": "python",
   "nbconvert_exporter": "python",
   "pygments_lexer": "ipython3",
   "version": "3.8.3"
  }
 },
 "nbformat": 4,
 "nbformat_minor": 4
}
