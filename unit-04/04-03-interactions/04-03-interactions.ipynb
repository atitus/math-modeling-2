{
 "cells": [
  {
   "cell_type": "code",
   "execution_count": null,
   "metadata": {},
   "outputs": [],
   "source": [
    "import numpy as np\n",
    "import matplotlib.pyplot as plt"
   ]
  },
  {
   "cell_type": "markdown",
   "metadata": {},
   "source": [
    "# Interactions: Competition and the Predator-Prey Model"
   ]
  },
  {
   "cell_type": "markdown",
   "metadata": {},
   "source": [
    "This notebook is based on Modules 4.1 and 4.2 in *Introduction to Computational Science* by Angela Shiflet and George Shiflet."
   ]
  },
  {
   "cell_type": "markdown",
   "metadata": {},
   "source": [
    "## Review"
   ]
  },
  {
   "cell_type": "markdown",
   "metadata": {},
   "source": [
    "### Unconstrained Births"
   ]
  },
  {
   "cell_type": "markdown",
   "metadata": {},
   "source": [
    "The rate of change of a population due to unconstrained births is proportional to the population and is positive since the population increases.\n",
    "\n",
    "$$rate_b = \\left(\\frac{\\Delta P}{\\Delta t}\\right)_b = r_bP \\quad \\mbox{due to births}$$\n",
    "\n",
    "The constant $r_b$ is the proportionality constant."
   ]
  },
  {
   "cell_type": "markdown",
   "metadata": {},
   "source": [
    "### Unconstrained Deaths"
   ]
  },
  {
   "cell_type": "markdown",
   "metadata": {},
   "source": [
    "The rate of change of a population due to uncontrained deaths is proportional to the population and is negative since the population decreases.\n",
    "\n",
    "$$rate_d = \\left(\\frac{\\Delta P}{\\Delta t}\\right)_d = - r_dP \\quad \\mbox{due to deaths}$$\n",
    "\n",
    "The constant $r_d$ is the proportionality constant."
   ]
  },
  {
   "cell_type": "markdown",
   "metadata": {},
   "source": [
    "### Competition"
   ]
  },
  {
   "cell_type": "markdown",
   "metadata": {},
   "source": [
    "The rate of change of the population of a species due to competition with another species is proportional to the product of the population of each species. If the populations are $P_1$ and $P_2$, then \n",
    "\n",
    "$$rate_{c1} = \\left(\\frac{\\Delta P_1}{\\Delta t}\\right) = -r_{c1}P_1P_2 \\quad \\mbox{rate of change of population 1 due to competition}$$\n",
    "$$rate_{c2} = \\left(\\frac{\\Delta P_2}{\\Delta t}\\right) = -r_{c2}P_1P_2 \\quad \\mbox{rate of change of population 2 due to competition}$$\n",
    "\n",
    "The constants $r_{c1}$ and $r_{c2}$ are the proportionality constants. The *c* refers to *competition*. The rate of change is negative since competition causes death, which is a *decrease* in the population."
   ]
  },
  {
   "cell_type": "markdown",
   "metadata": {},
   "source": [
    "### Summary"
   ]
  },
  {
   "cell_type": "markdown",
   "metadata": {},
   "source": [
    "1. All of these processes might be included in a particular model. Thus, the total rate of change of a species is the sum of the rate of change due to each process included in the model.\n",
    "2. When a process or interaction increases the population, the rate of change of the population is positive. When it decreases the population, the rate of change of the population is negative.\n",
    "3. Each term in the rate of change of the population has a proportionality constant, $r$. This constant is always unique to the particular population, its environment, and its interactions. It's often measured in an experiment, or it's used as an adjustable parameter in a model."
   ]
  },
  {
   "cell_type": "markdown",
   "metadata": {},
   "source": [
    "# Competition"
   ]
  },
  {
   "cell_type": "markdown",
   "metadata": {},
   "source": [
    "When an environment contains two species, each species might compete for the same limited resources (e.g. food), so when one species increases in population, the other one decreases because it has fewer resources. Thus, the population of one species has a negative effect on the rate of change of the other species.\n",
    "\n",
    "In this model, we will model the populations of whitetip sharks and blacktip sharks competing for the same food sources. The populations of the two species are:\n",
    "\n",
    "- $P_W$ for the whitetip sharks\n",
    "- $P_B$ for the blacktip sharks\n",
    "\n",
    "In this model, for each species, the rate of change of the population due to death depends on the product of the populations, $P_WP_B$ because an increase in each population will result in an increase in the number of deaths of the speacies. Expressed mathematically with the subscript $d$ for death, $W$ for whitetip shark, and $B$ for blacktip shark:\n",
    "\n",
    "$$rate_{dW} = -r_{dW}P_WP_B \\quad \\mbox{rate of change of population of whitetip sharks due to death}$$\n",
    "$$rate_{dB} = -r_{dB}P_WP_B \\quad \\mbox{rate of change of population of blacktip sharks due to death}$$\n",
    "\n",
    "The actual death rate coefficient for each species, $r_{dW}$ and $r_{dB}, depends on how well the species competes, with a lower coefficient being more competitive and a higher coefficient being less competitive. Thus, maybe with tongue firmly in cheek, we can call it a *coefficient of losing*.\n",
    "\n",
    "Each population will still give birth and will increase in population in proportional to the birth rate coefficient for the species and the population of only that species. With the subscript $b$ meaning *birth*, our model is:\n",
    "\n",
    "$$rate_{bW} = +r_{bW}P_W \\quad \\mbox{rate of change of population of whitetip sharks due to birth}$$\n",
    "$$rate_{bB} = +r_{bB}P_B \\quad \\mbox{rate of change of population of blacktip sharks due to birth}$$\n",
    "\n",
    "I have included the **+** sign in the expression to emphasize that births result in an increase in the population.\n",
    "\n",
    "For each species, the rate of change in the population is the sum of the rate of change due to births and rate of change due to deaths.\n",
    "\n",
    "**Whitetip Sharks**\n",
    "\n",
    "$$\\begin{eqnarray}rate_{W} & = & rate_{bW} + rate_{dW}\\\\  &=& r_{bW}P_W - r_{dW}P_WP_B \\end{eqnarray}$$\n",
    "\n",
    "**Blacktip Sharks**\n",
    "\n",
    "$$\\begin{eqnarray}rate_{B} & = & rate_{bB} + rate_{dB}\\\\  &=& r_{bB}P_B - r_{dB}P_WP_B \\end{eqnarray}$$"
   ]
  },
  {
   "cell_type": "markdown",
   "metadata": {},
   "source": [
    "## Initial Conditions and Constants"
   ]
  },
  {
   "cell_type": "markdown",
   "metadata": {},
   "source": [
    "Here are the initial populations and the birth and death rate coefficients of the whitetip and blacktip shark populations. The unit of time is *month*, and the birth and death rate coefficients are in units of 1/month.\n",
    "\n",
    "Variable | Initial Value\n",
    "--- | ---\n",
    "$P_{B}$ | 15\n",
    "$r_{bB}$ | 1\n",
    "$r_{dB}$ | 0.2\n",
    "--- | --- \n",
    "$P_{W}$ | 20\n",
    "$r_{bW}$ | 1\n",
    "$r_{dW}$ | 0.27\n",
    "\n",
    "Write a program to model the time evolution of the populations for 5 months using a time step of 1 day. Be sure to convert the unit of the time step to months. Plot both populations on the same graph. I've defined constants, variables, and lists (for storing the predicted values of population and time after each time step). You can start with this code, or you can erase it and write your own from scratch.\n",
    "\n",
    "**Compare your graph to Fig. 4.1.2 on page 115.**"
   ]
  },
  {
   "cell_type": "code",
   "execution_count": null,
   "metadata": {},
   "outputs": [],
   "source": [
    "t = 0 # months\n",
    "dt = 1/30 # month\n",
    "\n",
    "P_B = 15\n",
    "r_bB = 1\n",
    "r_dB = .2\n",
    "\n",
    "P_W = 20\n",
    "r_bW = 1\n",
    "r_dW = 0.27\n",
    "\n",
    "tmodel = [] #time\n",
    "P_Wmodel = [] #whitetip shark population\n",
    "P_Bmodel = [] #blacktip shark population"
   ]
  },
  {
   "cell_type": "markdown",
   "metadata": {},
   "source": [
    "The whitetip sharks have a higher death rate coefficient (or *coefficient of losing* as I call it). Thus, mathematically, we know they will lose the competition in the long run.\n",
    "\n",
    "Both populations decrease at first, but at approximately 1.5 months, the blacktip sharks start increasing in population. Once the population of whitetip sharks has decreased to zero (or nearly zero), the blacktip sharks increase exponentially since the birth rate dominates the death rate. There is no longer a competitor (or any other constraint) preventing the blacktip shark's growth."
   ]
  },
  {
   "cell_type": "markdown",
   "metadata": {},
   "source": [
    "## Exercise 1"
   ]
  },
  {
   "cell_type": "markdown",
   "metadata": {},
   "source": [
    "Adjust the values of the initial populations and the birth and death rate coefficients for the sharks such that each population reaches equilibrium (constant population). When you find a set of initial conditions and coefficients that produces a constant population, record the values you used and record the final population of each species. \n",
    "\n",
    "Then, try again to find other sets of initial conditions and coefficients that produces a constant population. In each case, record the final population of each species.\n",
    "\n",
    "Although you found equilibrium solutions, are these solutions possible? Why might these solutions be completely unphysical (meaning the solution is mathematically correct but is impossible in the real world)?"
   ]
  },
  {
   "cell_type": "code",
   "execution_count": null,
   "metadata": {},
   "outputs": [],
   "source": []
  },
  {
   "cell_type": "markdown",
   "metadata": {},
   "source": [
    "# Predator-Prey Model"
   ]
  },
  {
   "cell_type": "markdown",
   "metadata": {},
   "source": [
    "To model the populations of a predator and prey in an environment, you have to think about interactions and processes that affect the rate of change of the population of predators and prey. Birth, death, and interactions (like competition) can all affect the population.\n",
    "\n",
    "Let's make a table to list all of the kinds of processes and interactions that will go into our model for each population of predator and prey. I will use the variable $p$ for prey population and $P$ for predator population.\n",
    "\n",
    "Population | Process or Interaction | Associated Rate of Change | Proportionality Constant\n",
    "--- | --- | --- | ---\n",
    "prey (p) | unconstrained birth | $+(r_{p,b})p$ | $r_{p,b}$\n",
    "prey (p) | deaths due to being eaten by predator | $-(r_{p,P})pP$ | $r_{p,P}$\n",
    "Predator (P) | births due to eating prey | $+(r_{P,p})pP$ | $r_{P,p}$\n",
    "Predator (P) | unconstrained death | $-(r_{P,d})P$ | $r_{P,d}$\n",
    "\n",
    "In this model, the births of prey grow unconstrained, but death is due to being eaten by a predator and depends on the product of the population of prey and predator, $pP$. (The greater the number of predators, the more they eat, and the greater the number of prey, the more they eat.) It's basically a contrained death.\n",
    "\n",
    "The births of predators depend on the abundance of both prey and predator, $pP$. If there is more prey to eat, there will be more births. If there are more predators, then there are also more births. It's basically a constrained growth. While births of predators are constrained by the population of prey, the deaths of predators are unconstrained since nothing is eating them.\n",
    "\n",
    "The rate of change of each population is due to both birth and death, so we add each contribution to get the total rate of change. Again, $P$ is for predator population and $p$ is for prey population. The rate of change of each population is\n",
    "\n",
    "$$rate_p = \\frac{\\Delta p}{\\Delta t} = (r_{p,b})p - (r_{p,P})pP$$\n",
    "\n",
    "$$rate_P = \\frac{\\Delta P}{\\Delta t} = (r_{P,p})pP - (r_{P,d})P$$"
   ]
  },
  {
   "cell_type": "markdown",
   "metadata": {},
   "source": [
    "## Hawks and Squirrels"
   ]
  },
  {
   "cell_type": "markdown",
   "metadata": {},
   "source": [
    "Suppose hawks eat squirrels. Let's model the time-evolution of their populations. We'll use the following values for initial conditions and proportionality constants. The unit of time is a month. I will use the variables $S$ and $H$ to represent the squirrel and hawk populations.\n",
    "\n",
    "Variable or Constant | Value (in appropriate units)\n",
    "--- | ---\n",
    "Initial squirrel population, $S$ | 100\n",
    "Squirrel birth rate coefficient, $r_{S,b}$ | 2\n",
    "Squirrel death rate coefficient due to being eaten, $r_{S,H}$ | 0.02\n",
    "Initial hawk population, $H$ | 15\n",
    "Hawk birth rate coefficient due to eating squirrels, $r_{H,S}$ | 0.01\n",
    "Hawk death rate coefficient, $r_{H,d}$ | 1.06\n",
    "\n",
    "Note that the subscripts for a coefficient, like $r_{H,S}$, represent the variable changing (hawks) due to the process (eating squirrels). So $r_{S,H}$ is the proportionality constant for squirrels that are dying due to the hawks. Often you have to create a naming convention for variables that make sense to you, and possibly to someone else once it's explained.\n",
    "\n",
    "The rate of change of each population is due to both birth and death, so we add each contribution to get the total rate of change. Thus,\n",
    "\n",
    "$$rate_S = \\frac{\\Delta S}{\\Delta t} = (r_{S,b})S - (r_{S,H})SH$$\n",
    "\n",
    "$$rate_H = \\frac{\\Delta H}{\\Delta t} = (r_{H,S})SH - (r_{H,d})H$$\n",
    "\n",
    "Now, let's do our calculations with code and graph the time-evolution of the population of hawks and squirrels. In the program below, I've defined populations and contants and lists (for the predicted values of population and time after each time step). Add a loop to calculate each population and the time and store their values in the lists. Plot the hawk population and squirrel population as a function of time for 12 months.\n",
    "\n",
    "**Compare your graph to Figure 4.2.2 on page 123.**"
   ]
  },
  {
   "cell_type": "code",
   "execution_count": null,
   "metadata": {},
   "outputs": [],
   "source": [
    "t = 0 \n",
    "dt = 1/1000 #month\n",
    "\n",
    "S = 100\n",
    "r_Sb = 2\n",
    "r_SH = 0.02\n",
    "\n",
    "H = 15\n",
    "r_HS = 0.01\n",
    "r_Hd = 1.06\n",
    "\n",
    "tmodel = []\n",
    "Smodel = []\n",
    "Hmodel = []\n"
   ]
  },
  {
   "cell_type": "markdown",
   "metadata": {},
   "source": [
    "It's important to study the graph and describe what happens.\n",
    "\n",
    "**Between 0 and 1 month**, the squirrels grow unconstrained because the population of hawks is small in comparison. But the birth of hawks is proportional to the birth of squirrels, so soon (**between 1 month and 2 months**) the hawk population increases as more hawks are born. But the larger hawk population causes the death of squirrels, so the squirrel population decreases and is a minimum at $t=3$ months. In fact, **at 3 months, there are only about 5 squirrels**.\n",
    "\n",
    "The decrease in squirrels reduces the births of hawks, and the unconstrained death of hawks outpaces their births. Therefore, the hawk population decreases which allows the squirrel population to increase as their births outpace their deaths. \n",
    "\n",
    "This process of predator population following the prey population repeats. In fact, you can say that their populations oscillate, with the change in one population affecting the other. This is due to the *interaction* terms in the rate of change equations where the death of squirrels and birth of hawks are both proportional to the product of the populations, $SH$. \n",
    "\n"
   ]
  },
  {
   "cell_type": "markdown",
   "metadata": {},
   "source": [
    "## Exercise 1"
   ]
  },
  {
   "cell_type": "markdown",
   "metadata": {},
   "source": [
    "Page 123 of our textbook *Introduction to Computational Science* shows a different way to graph the predator-prey population relationsip. Plot the model data stored in `Smodel` and `Hmodel` in such a way that you reproduce Figure 4.2.3. **You have already calculated all the data. Your code should only be the lines necessary to graph the squirrel population vs. hawk population.**"
   ]
  },
  {
   "cell_type": "code",
   "execution_count": null,
   "metadata": {
    "nbgrader": {
     "grade": true,
     "grade_id": "Ex_1_ans",
     "locked": false,
     "points": 1,
     "schema_version": 3,
     "solution": true,
     "task": false
    }
   },
   "outputs": [],
   "source": []
  },
  {
   "cell_type": "markdown",
   "metadata": {},
   "source": [
    "# Using a Python Function to Test Various Initial Conditions"
   ]
  },
  {
   "cell_type": "markdown",
   "metadata": {},
   "source": [
    "In Exercise 2 below, we want to explore the result of our model using different initial populations. When you want to repeat code (but with different initial conditions or constants), it is best to put your code into a function. Then call that function, passing it the values you want to use for the initial conditions (or other constants.)\n",
    "\n",
    "In the example below, I take our previous program for squirrels and hawks and put it into a function. I pass this function the initial populations of hawks and squirrels. Then I call the function every time I want to produce a new graph using different initial populations. It's far more convenient than copying and pasting a long block of code.\n",
    "\n",
    "Here's the function. I named mine `graphPpTime`. While that might sound like the term a mathematician uses when graphing the success of a two-year old who is potty training, it actually refers to *Graph the Predator Prey Time* evolution."
   ]
  },
  {
   "cell_type": "code",
   "execution_count": null,
   "metadata": {},
   "outputs": [],
   "source": [
    "def graphPpTime(S, H): #pass the initial values of S and H to the model\n",
    "    t = 0 \n",
    "    dt = 1/1000 #month\n",
    "\n",
    "#    S = 100 # I commented out this line because the initial value of S is passed to the function\n",
    "    r_Sb = 2\n",
    "    r_SH = 0.02\n",
    "\n",
    "#    H = 15 # I commented out this line because the initial value of H is passed to the function\n",
    "    r_HS = 0.01\n",
    "    r_Hd = 1.06\n",
    "\n",
    "    tmodel = []\n",
    "    Smodel = []\n",
    "    Hmodel = []\n",
    "\n",
    "    while t < 12:\n",
    "        rateS = r_Sb*S - r_SH*S*H\n",
    "        rateH = r_HS*S*H - r_Hd*H\n",
    "\n",
    "        S = S + rateS*dt\n",
    "        H = H + rateH*dt\n",
    "\n",
    "        t = t + dt\n",
    "\n",
    "        tmodel.append(t)\n",
    "        Smodel.append(S)\n",
    "        Hmodel.append(H)\n",
    "\n",
    "    fig = plt.figure()\n",
    "    plt.title(\"Population Growth for Predator-Prey Model\")\n",
    "    plt.xlabel(\"Time (month)\")\n",
    "    plt.ylabel(\"Population\")\n",
    "    plt.plot(tmodel, Smodel, label='Squirrel Population')\n",
    "    plt.plot(tmodel, Hmodel, label='Hawk Population')\n",
    "    plt.legend()\n",
    "    plt.show()"
   ]
  },
  {
   "cell_type": "markdown",
   "metadata": {},
   "source": [
    "To see the graph, you have to call the function with the initial values of squirrels and hawks, like this:"
   ]
  },
  {
   "cell_type": "code",
   "execution_count": null,
   "metadata": {},
   "outputs": [],
   "source": [
    "graphPpTime(100, 15) #initial (S,H) populations"
   ]
  },
  {
   "cell_type": "markdown",
   "metadata": {},
   "source": [
    "Now you can try other values, like starting with 125 squirrels and 75 prey, as shown below."
   ]
  },
  {
   "cell_type": "code",
   "execution_count": null,
   "metadata": {},
   "outputs": [],
   "source": [
    "graphPpTime(125,75)"
   ]
  },
  {
   "cell_type": "markdown",
   "metadata": {},
   "source": [
    "## Exercise 2"
   ]
  },
  {
   "cell_type": "markdown",
   "metadata": {},
   "source": [
    "In Exercise 1, you created a graph of predator population vs. prey population. The code below contains a function that takes the initial populations of squirrels and hawks and produces a graph of hawk population vs. squirrel population."
   ]
  },
  {
   "cell_type": "code",
   "execution_count": null,
   "metadata": {
    "nbgrader": {
     "grade": true,
     "grade_id": "Ex_2_ans",
     "locked": false,
     "points": 1,
     "schema_version": 3,
     "solution": true,
     "task": false
    }
   },
   "outputs": [],
   "source": [
    "def graphPredPrey(S, H):\n",
    "    t = 0 \n",
    "    dt = 1/1000 #month\n",
    "\n",
    "#    S = 100 # I commented out this line because the initial value of S is passed to the function\n",
    "    r_Sb = 2\n",
    "    r_SH = 0.02\n",
    "\n",
    "#    H = 15 # I commented out this line because the initial value of H is passed to the function\n",
    "    r_HS = 0.01\n",
    "    r_Hd = 1.06\n",
    "\n",
    "    tdata = []\n",
    "    Sdata = []\n",
    "    Hdata = []\n",
    "\n",
    "    while t < 12:\n",
    "        Sdot = r_Sb*S - r_SH*S*H\n",
    "        Hdot = r_HS*S*H - r_Hd*H\n",
    "\n",
    "        S = S + Sdot*dt\n",
    "        H = H + Hdot*dt\n",
    "\n",
    "        t = t + dt\n",
    "\n",
    "        tdata.append(t)\n",
    "        Sdata.append(S)\n",
    "        Hdata.append(H)\n",
    "\n",
    "    fig = plt.figure()\n",
    "    plt.title(\"Population Growth for Predator-Prey Model\")\n",
    "    plt.xlabel(\"Prey Population\")\n",
    "    plt.ylabel(\"Predator Population\")\n",
    "    plt.plot(Sdata, Hdata)\n",
    "    plt.show()"
   ]
  },
  {
   "cell_type": "markdown",
   "metadata": {},
   "source": [
    "Call this function when you want to produce a population graph."
   ]
  },
  {
   "cell_type": "code",
   "execution_count": null,
   "metadata": {},
   "outputs": [],
   "source": [
    "graphPredPrey(100, 15)"
   ]
  },
  {
   "cell_type": "markdown",
   "metadata": {},
   "source": [
    "Page 124 of our textbook *Introduction to Computational Science* shows a few different results, depending on the initial populations of squirrels and hawks. Use the initial populations provided on pg. 124 to plot each curve by calling the function `graphPredPrey` as shown above. It's ok to make separate graphs in your notebook rather than plotting all of the curves on the same graph as shown on page 124. Compare your plots to the ones shown in "
   ]
  },
  {
   "cell_type": "code",
   "execution_count": null,
   "metadata": {},
   "outputs": [],
   "source": []
  }
 ],
 "metadata": {
  "celltoolbar": "Create Assignment",
  "kernelspec": {
   "display_name": "Python 3",
   "language": "python",
   "name": "python3"
  },
  "language_info": {
   "codemirror_mode": {
    "name": "ipython",
    "version": 3
   },
   "file_extension": ".py",
   "mimetype": "text/x-python",
   "name": "python",
   "nbconvert_exporter": "python",
   "pygments_lexer": "ipython3",
   "version": "3.8.5"
  }
 },
 "nbformat": 4,
 "nbformat_minor": 4
}
